{
 "cells": [
  {
   "cell_type": "markdown",
   "metadata": {
    "id": "hhUpHSYMRMM4"
   },
   "source": [
    "<table align=\"center\" width=100%>\n",
    "    <tr>\n",
    "        <td width=\"15%\">\n",
    "            <img src=\"in_class.png\">\n",
    "        </td>\n",
    "        <td>\n",
    "            <div align=\"center\">\n",
    "                <font color=\"#21618C\" size=8px>\n",
    "                    <b> Inclass - Lab <br>(Session 5)\n",
    "                    </b>\n",
    "                </font>\n",
    "            </div>\n",
    "        </td>\n",
    "    </tr>\n",
    "</table>"
   ]
  },
  {
   "cell_type": "markdown",
   "metadata": {
    "id": "878-5BrxRMM6"
   },
   "source": [
    "### About the data set (Employee data)\n",
    "\n",
    "The dataset contains information about employees. The aim is to find which employees might undergo attrition.<br> Attribute information: \n",
    "\n",
    "**Age:** Age of the employee \n",
    "\n",
    "**BusinessTravel:** How much travel is involved in the job for the employee:No Travel, Travel Frequently, Tavel Rarely\n",
    "\n",
    "**Department:** Department of the employee: Human Resources, Reserach & Development, Sales\n",
    "\n",
    "**Commute:** Number of miles of daily commute for the employee\n",
    "\n",
    "**Education:** Employee education field: Human Resources, Life Sciences, Marketing, Medical Sciences, Technical, Others\n",
    "\n",
    "**EnvironmentSatisfaction:** Satisfaction of employee with office environment\n",
    "\n",
    "**Gender:** Employee gender\n",
    "\n",
    "**JobInvolvement:** Job involvement rating\n",
    "\n",
    "**JobLevel:**  Job level for employee designation\n",
    "\n",
    "**JobSatisfaction:** Employee job satisfaction rating\n",
    "\n",
    "**MonthlyIncome:** Employee monthly salary\n",
    "\n",
    "**OverTime:** Has the employee been open to working overtime: Yes or No\n",
    "\n",
    "**PercentSalaryHike:** Percent increase in salary\n",
    "\n",
    "**PerformanceRating:** Overall employee performance rating\n",
    "\n",
    "**YearsAtCompany:** Number of years the employee has worked with the company\n",
    "\n",
    "**Attrition:** Employee leaving the company: Yes or No"
   ]
  },
  {
   "cell_type": "markdown",
   "metadata": {
    "id": "LWq2rjhURMM7"
   },
   "source": [
    "## Table of Content\n",
    "\n",
    "1. **[Decision tree](#dtree)**\n",
    "2. **[Random forest](#rf)**"
   ]
  },
  {
   "cell_type": "markdown",
   "metadata": {
    "id": "Hnb0H96PRMM7"
   },
   "source": [
    "**Import the required libraries**"
   ]
  },
  {
   "cell_type": "code",
   "execution_count": 2,
   "metadata": {
    "id": "TJ4AZIRLRMM8"
   },
   "outputs": [],
   "source": [
    "# import 'Pandas' \n",
    "import pandas as pd \n",
    "\n",
    "# import 'Numpy' \n",
    "import numpy as np\n",
    "\n",
    "# import subpackage of Matplotlib\n",
    "import matplotlib.pyplot as plt\n",
    "\n",
    "# import 'Seaborn' \n",
    "import seaborn as sns\n",
    "\n",
    "# to suppress warnings \n",
    "from warnings import filterwarnings\n",
    "filterwarnings('ignore')\n",
    "\n",
    "# display all columns of the dataframe\n",
    "pd.options.display.max_columns = None\n",
    "\n",
    "# display all rows of the dataframe\n",
    "pd.options.display.max_rows = None\n",
    " \n",
    "# to display the float values upto 6 decimal places     \n",
    "pd.options.display.float_format = '{:.6f}'.format\n",
    "\n",
    "# import train-test split \n",
    "from sklearn.model_selection import train_test_split\n",
    "\n",
    "# import StandardScaler to perform scaling\n",
    "from sklearn.preprocessing import StandardScaler \n",
    "\n",
    "# import various functions from sklearn\n",
    "from sklearn.metrics import classification_report\n",
    "from sklearn.tree import DecisionTreeClassifier\n",
    "from sklearn.ensemble import RandomForestClassifier\n",
    "from sklearn import tree\n",
    "from sklearn.model_selection import GridSearchCV\n",
    "\n",
    " "
   ]
  },
  {
   "cell_type": "markdown",
   "metadata": {
    "id": "7-m5NmDkRMM8"
   },
   "source": [
    "#### Load the csv file"
   ]
  },
  {
   "cell_type": "code",
   "execution_count": 3,
   "metadata": {
    "id": "_L73_c6URMM8",
    "outputId": "84eec9f6-b157-4b8c-ea40-d483025c9d2e"
   },
   "outputs": [
    {
     "data": {
      "text/html": [
       "<div>\n",
       "<style scoped>\n",
       "    .dataframe tbody tr th:only-of-type {\n",
       "        vertical-align: middle;\n",
       "    }\n",
       "\n",
       "    .dataframe tbody tr th {\n",
       "        vertical-align: top;\n",
       "    }\n",
       "\n",
       "    .dataframe thead th {\n",
       "        text-align: right;\n",
       "    }\n",
       "</style>\n",
       "<table border=\"1\" class=\"dataframe\">\n",
       "  <thead>\n",
       "    <tr style=\"text-align: right;\">\n",
       "      <th></th>\n",
       "      <th>Age</th>\n",
       "      <th>Attrition</th>\n",
       "      <th>BusinessTravel</th>\n",
       "      <th>Department</th>\n",
       "      <th>DistanceFromHome</th>\n",
       "      <th>EducationField</th>\n",
       "      <th>EnvironmentSatisfaction</th>\n",
       "      <th>Gender</th>\n",
       "      <th>JobInvolvement</th>\n",
       "      <th>JobLevel</th>\n",
       "      <th>JobRole</th>\n",
       "      <th>JobSatisfaction</th>\n",
       "      <th>MonthlyIncome</th>\n",
       "      <th>NumCompaniesWorked</th>\n",
       "      <th>OverTime</th>\n",
       "      <th>PercentSalaryHike</th>\n",
       "      <th>PerformanceRating</th>\n",
       "      <th>YearsAtCompany</th>\n",
       "    </tr>\n",
       "  </thead>\n",
       "  <tbody>\n",
       "    <tr>\n",
       "      <th>0</th>\n",
       "      <td>41</td>\n",
       "      <td>Yes</td>\n",
       "      <td>Travel_Rarely</td>\n",
       "      <td>Sales</td>\n",
       "      <td>1</td>\n",
       "      <td>Life Sciences</td>\n",
       "      <td>2</td>\n",
       "      <td>Female</td>\n",
       "      <td>3</td>\n",
       "      <td>2</td>\n",
       "      <td>Sales Executive</td>\n",
       "      <td>4</td>\n",
       "      <td>5993</td>\n",
       "      <td>8</td>\n",
       "      <td>Yes</td>\n",
       "      <td>11</td>\n",
       "      <td>3</td>\n",
       "      <td>6</td>\n",
       "    </tr>\n",
       "    <tr>\n",
       "      <th>1</th>\n",
       "      <td>49</td>\n",
       "      <td>No</td>\n",
       "      <td>Travel_Frequently</td>\n",
       "      <td>Research &amp; Development</td>\n",
       "      <td>8</td>\n",
       "      <td>Life Sciences</td>\n",
       "      <td>3</td>\n",
       "      <td>Male</td>\n",
       "      <td>2</td>\n",
       "      <td>2</td>\n",
       "      <td>Research Scientist</td>\n",
       "      <td>2</td>\n",
       "      <td>5130</td>\n",
       "      <td>1</td>\n",
       "      <td>No</td>\n",
       "      <td>23</td>\n",
       "      <td>4</td>\n",
       "      <td>10</td>\n",
       "    </tr>\n",
       "    <tr>\n",
       "      <th>2</th>\n",
       "      <td>37</td>\n",
       "      <td>Yes</td>\n",
       "      <td>Travel_Rarely</td>\n",
       "      <td>Research &amp; Development</td>\n",
       "      <td>2</td>\n",
       "      <td>Other</td>\n",
       "      <td>4</td>\n",
       "      <td>Male</td>\n",
       "      <td>2</td>\n",
       "      <td>1</td>\n",
       "      <td>Laboratory Technician</td>\n",
       "      <td>3</td>\n",
       "      <td>2090</td>\n",
       "      <td>6</td>\n",
       "      <td>Yes</td>\n",
       "      <td>15</td>\n",
       "      <td>3</td>\n",
       "      <td>0</td>\n",
       "    </tr>\n",
       "    <tr>\n",
       "      <th>3</th>\n",
       "      <td>33</td>\n",
       "      <td>No</td>\n",
       "      <td>Travel_Frequently</td>\n",
       "      <td>Research &amp; Development</td>\n",
       "      <td>3</td>\n",
       "      <td>Life Sciences</td>\n",
       "      <td>4</td>\n",
       "      <td>Female</td>\n",
       "      <td>3</td>\n",
       "      <td>1</td>\n",
       "      <td>Research Scientist</td>\n",
       "      <td>3</td>\n",
       "      <td>2909</td>\n",
       "      <td>1</td>\n",
       "      <td>Yes</td>\n",
       "      <td>11</td>\n",
       "      <td>3</td>\n",
       "      <td>8</td>\n",
       "    </tr>\n",
       "    <tr>\n",
       "      <th>4</th>\n",
       "      <td>27</td>\n",
       "      <td>No</td>\n",
       "      <td>Travel_Rarely</td>\n",
       "      <td>Research &amp; Development</td>\n",
       "      <td>2</td>\n",
       "      <td>Medical</td>\n",
       "      <td>1</td>\n",
       "      <td>Male</td>\n",
       "      <td>3</td>\n",
       "      <td>1</td>\n",
       "      <td>Laboratory Technician</td>\n",
       "      <td>2</td>\n",
       "      <td>3468</td>\n",
       "      <td>9</td>\n",
       "      <td>No</td>\n",
       "      <td>12</td>\n",
       "      <td>3</td>\n",
       "      <td>2</td>\n",
       "    </tr>\n",
       "  </tbody>\n",
       "</table>\n",
       "</div>"
      ],
      "text/plain": [
       "   Age Attrition     BusinessTravel              Department  DistanceFromHome  \\\n",
       "0   41       Yes      Travel_Rarely                   Sales                 1   \n",
       "1   49        No  Travel_Frequently  Research & Development                 8   \n",
       "2   37       Yes      Travel_Rarely  Research & Development                 2   \n",
       "3   33        No  Travel_Frequently  Research & Development                 3   \n",
       "4   27        No      Travel_Rarely  Research & Development                 2   \n",
       "\n",
       "  EducationField  EnvironmentSatisfaction  Gender  JobInvolvement  JobLevel  \\\n",
       "0  Life Sciences                        2  Female               3         2   \n",
       "1  Life Sciences                        3    Male               2         2   \n",
       "2          Other                        4    Male               2         1   \n",
       "3  Life Sciences                        4  Female               3         1   \n",
       "4        Medical                        1    Male               3         1   \n",
       "\n",
       "                 JobRole  JobSatisfaction  MonthlyIncome  NumCompaniesWorked  \\\n",
       "0        Sales Executive                4           5993                   8   \n",
       "1     Research Scientist                2           5130                   1   \n",
       "2  Laboratory Technician                3           2090                   6   \n",
       "3     Research Scientist                3           2909                   1   \n",
       "4  Laboratory Technician                2           3468                   9   \n",
       "\n",
       "  OverTime  PercentSalaryHike  PerformanceRating  YearsAtCompany  \n",
       "0      Yes                 11                  3               6  \n",
       "1       No                 23                  4              10  \n",
       "2      Yes                 15                  3               0  \n",
       "3      Yes                 11                  3               8  \n",
       "4       No                 12                  3               2  "
      ]
     },
     "execution_count": 3,
     "metadata": {},
     "output_type": "execute_result"
    }
   ],
   "source": [
    "# load the csv file\n",
    "df_employee = pd.read_csv('Employee-Attrition.csv')\n",
    "\n",
    "# display the first two observations\n",
    "df_employee.head()"
   ]
  },
  {
   "cell_type": "code",
   "execution_count": 3,
   "metadata": {
    "id": "Jd1n6CvGRMM9"
   },
   "outputs": [
    {
     "name": "stdout",
     "output_type": "stream",
     "text": [
      "<class 'pandas.core.frame.DataFrame'>\n",
      "RangeIndex: 1470 entries, 0 to 1469\n",
      "Data columns (total 18 columns):\n",
      " #   Column                   Non-Null Count  Dtype \n",
      "---  ------                   --------------  ----- \n",
      " 0   Age                      1470 non-null   int64 \n",
      " 1   Attrition                1470 non-null   object\n",
      " 2   BusinessTravel           1470 non-null   object\n",
      " 3   Department               1470 non-null   object\n",
      " 4   DistanceFromHome         1470 non-null   int64 \n",
      " 5   EducationField           1470 non-null   object\n",
      " 6   EnvironmentSatisfaction  1470 non-null   int64 \n",
      " 7   Gender                   1470 non-null   object\n",
      " 8   JobInvolvement           1470 non-null   int64 \n",
      " 9   JobLevel                 1470 non-null   int64 \n",
      " 10  JobRole                  1470 non-null   object\n",
      " 11  JobSatisfaction          1470 non-null   int64 \n",
      " 12  MonthlyIncome            1470 non-null   int64 \n",
      " 13  NumCompaniesWorked       1470 non-null   int64 \n",
      " 14  OverTime                 1470 non-null   object\n",
      " 15  PercentSalaryHike        1470 non-null   int64 \n",
      " 16  PerformanceRating        1470 non-null   int64 \n",
      " 17  YearsAtCompany           1470 non-null   int64 \n",
      "dtypes: int64(11), object(7)\n",
      "memory usage: 206.8+ KB\n"
     ]
    }
   ],
   "source": [
    "df_employee.info()"
   ]
  },
  {
   "cell_type": "code",
   "execution_count": 4,
   "metadata": {},
   "outputs": [
    {
     "data": {
      "text/html": [
       "<div>\n",
       "<style scoped>\n",
       "    .dataframe tbody tr th:only-of-type {\n",
       "        vertical-align: middle;\n",
       "    }\n",
       "\n",
       "    .dataframe tbody tr th {\n",
       "        vertical-align: top;\n",
       "    }\n",
       "\n",
       "    .dataframe thead th {\n",
       "        text-align: right;\n",
       "    }\n",
       "</style>\n",
       "<table border=\"1\" class=\"dataframe\">\n",
       "  <thead>\n",
       "    <tr style=\"text-align: right;\">\n",
       "      <th></th>\n",
       "      <th>Age</th>\n",
       "      <th>DistanceFromHome</th>\n",
       "      <th>EnvironmentSatisfaction</th>\n",
       "      <th>JobInvolvement</th>\n",
       "      <th>JobLevel</th>\n",
       "      <th>JobSatisfaction</th>\n",
       "      <th>MonthlyIncome</th>\n",
       "      <th>NumCompaniesWorked</th>\n",
       "      <th>PercentSalaryHike</th>\n",
       "      <th>PerformanceRating</th>\n",
       "      <th>YearsAtCompany</th>\n",
       "    </tr>\n",
       "  </thead>\n",
       "  <tbody>\n",
       "    <tr>\n",
       "      <th>count</th>\n",
       "      <td>1470.000000</td>\n",
       "      <td>1470.000000</td>\n",
       "      <td>1470.000000</td>\n",
       "      <td>1470.000000</td>\n",
       "      <td>1470.000000</td>\n",
       "      <td>1470.000000</td>\n",
       "      <td>1470.000000</td>\n",
       "      <td>1470.000000</td>\n",
       "      <td>1470.000000</td>\n",
       "      <td>1470.000000</td>\n",
       "      <td>1470.000000</td>\n",
       "    </tr>\n",
       "    <tr>\n",
       "      <th>mean</th>\n",
       "      <td>36.923810</td>\n",
       "      <td>9.192517</td>\n",
       "      <td>2.721769</td>\n",
       "      <td>2.729932</td>\n",
       "      <td>2.063946</td>\n",
       "      <td>2.728571</td>\n",
       "      <td>6502.931293</td>\n",
       "      <td>2.693197</td>\n",
       "      <td>15.209524</td>\n",
       "      <td>3.153741</td>\n",
       "      <td>7.008163</td>\n",
       "    </tr>\n",
       "    <tr>\n",
       "      <th>std</th>\n",
       "      <td>9.135373</td>\n",
       "      <td>8.106864</td>\n",
       "      <td>1.093082</td>\n",
       "      <td>0.711561</td>\n",
       "      <td>1.106940</td>\n",
       "      <td>1.102846</td>\n",
       "      <td>4707.956783</td>\n",
       "      <td>2.498009</td>\n",
       "      <td>3.659938</td>\n",
       "      <td>0.360824</td>\n",
       "      <td>6.126525</td>\n",
       "    </tr>\n",
       "    <tr>\n",
       "      <th>min</th>\n",
       "      <td>18.000000</td>\n",
       "      <td>1.000000</td>\n",
       "      <td>1.000000</td>\n",
       "      <td>1.000000</td>\n",
       "      <td>1.000000</td>\n",
       "      <td>1.000000</td>\n",
       "      <td>1009.000000</td>\n",
       "      <td>0.000000</td>\n",
       "      <td>11.000000</td>\n",
       "      <td>3.000000</td>\n",
       "      <td>0.000000</td>\n",
       "    </tr>\n",
       "    <tr>\n",
       "      <th>25%</th>\n",
       "      <td>30.000000</td>\n",
       "      <td>2.000000</td>\n",
       "      <td>2.000000</td>\n",
       "      <td>2.000000</td>\n",
       "      <td>1.000000</td>\n",
       "      <td>2.000000</td>\n",
       "      <td>2911.000000</td>\n",
       "      <td>1.000000</td>\n",
       "      <td>12.000000</td>\n",
       "      <td>3.000000</td>\n",
       "      <td>3.000000</td>\n",
       "    </tr>\n",
       "    <tr>\n",
       "      <th>50%</th>\n",
       "      <td>36.000000</td>\n",
       "      <td>7.000000</td>\n",
       "      <td>3.000000</td>\n",
       "      <td>3.000000</td>\n",
       "      <td>2.000000</td>\n",
       "      <td>3.000000</td>\n",
       "      <td>4919.000000</td>\n",
       "      <td>2.000000</td>\n",
       "      <td>14.000000</td>\n",
       "      <td>3.000000</td>\n",
       "      <td>5.000000</td>\n",
       "    </tr>\n",
       "    <tr>\n",
       "      <th>75%</th>\n",
       "      <td>43.000000</td>\n",
       "      <td>14.000000</td>\n",
       "      <td>4.000000</td>\n",
       "      <td>3.000000</td>\n",
       "      <td>3.000000</td>\n",
       "      <td>4.000000</td>\n",
       "      <td>8379.000000</td>\n",
       "      <td>4.000000</td>\n",
       "      <td>18.000000</td>\n",
       "      <td>3.000000</td>\n",
       "      <td>9.000000</td>\n",
       "    </tr>\n",
       "    <tr>\n",
       "      <th>max</th>\n",
       "      <td>60.000000</td>\n",
       "      <td>29.000000</td>\n",
       "      <td>4.000000</td>\n",
       "      <td>4.000000</td>\n",
       "      <td>5.000000</td>\n",
       "      <td>4.000000</td>\n",
       "      <td>19999.000000</td>\n",
       "      <td>9.000000</td>\n",
       "      <td>25.000000</td>\n",
       "      <td>4.000000</td>\n",
       "      <td>40.000000</td>\n",
       "    </tr>\n",
       "  </tbody>\n",
       "</table>\n",
       "</div>"
      ],
      "text/plain": [
       "              Age  DistanceFromHome  EnvironmentSatisfaction  JobInvolvement  \\\n",
       "count 1470.000000       1470.000000              1470.000000     1470.000000   \n",
       "mean    36.923810          9.192517                 2.721769        2.729932   \n",
       "std      9.135373          8.106864                 1.093082        0.711561   \n",
       "min     18.000000          1.000000                 1.000000        1.000000   \n",
       "25%     30.000000          2.000000                 2.000000        2.000000   \n",
       "50%     36.000000          7.000000                 3.000000        3.000000   \n",
       "75%     43.000000         14.000000                 4.000000        3.000000   \n",
       "max     60.000000         29.000000                 4.000000        4.000000   \n",
       "\n",
       "         JobLevel  JobSatisfaction  MonthlyIncome  NumCompaniesWorked  \\\n",
       "count 1470.000000      1470.000000    1470.000000         1470.000000   \n",
       "mean     2.063946         2.728571    6502.931293            2.693197   \n",
       "std      1.106940         1.102846    4707.956783            2.498009   \n",
       "min      1.000000         1.000000    1009.000000            0.000000   \n",
       "25%      1.000000         2.000000    2911.000000            1.000000   \n",
       "50%      2.000000         3.000000    4919.000000            2.000000   \n",
       "75%      3.000000         4.000000    8379.000000            4.000000   \n",
       "max      5.000000         4.000000   19999.000000            9.000000   \n",
       "\n",
       "       PercentSalaryHike  PerformanceRating  YearsAtCompany  \n",
       "count        1470.000000        1470.000000     1470.000000  \n",
       "mean           15.209524           3.153741        7.008163  \n",
       "std             3.659938           0.360824        6.126525  \n",
       "min            11.000000           3.000000        0.000000  \n",
       "25%            12.000000           3.000000        3.000000  \n",
       "50%            14.000000           3.000000        5.000000  \n",
       "75%            18.000000           3.000000        9.000000  \n",
       "max            25.000000           4.000000       40.000000  "
      ]
     },
     "execution_count": 4,
     "metadata": {},
     "output_type": "execute_result"
    }
   ],
   "source": [
    "df_employee.describe()"
   ]
  },
  {
   "cell_type": "markdown",
   "metadata": {
    "id": "yj674mPtRMM9"
   },
   "source": [
    "**Data Preparation**"
   ]
  },
  {
   "cell_type": "code",
   "execution_count": 5,
   "metadata": {
    "id": "Dx8ILiAiRMM9"
   },
   "outputs": [
    {
     "data": {
      "text/plain": [
       "Age                        0\n",
       "Attrition                  0\n",
       "BusinessTravel             0\n",
       "Department                 0\n",
       "DistanceFromHome           0\n",
       "EducationField             0\n",
       "EnvironmentSatisfaction    0\n",
       "Gender                     0\n",
       "JobInvolvement             0\n",
       "JobLevel                   0\n",
       "JobRole                    0\n",
       "JobSatisfaction            0\n",
       "MonthlyIncome              0\n",
       "NumCompaniesWorked         0\n",
       "OverTime                   0\n",
       "PercentSalaryHike          0\n",
       "PerformanceRating          0\n",
       "YearsAtCompany             0\n",
       "dtype: int64"
      ]
     },
     "execution_count": 5,
     "metadata": {},
     "output_type": "execute_result"
    }
   ],
   "source": [
    "df_employee.isnull().sum()"
   ]
  },
  {
   "cell_type": "code",
   "execution_count": 35,
   "metadata": {},
   "outputs": [
    {
     "data": {
      "text/plain": [
       "0    1233\n",
       "1     237\n",
       "Name: Attrition, dtype: int64"
      ]
     },
     "execution_count": 35,
     "metadata": {},
     "output_type": "execute_result"
    }
   ],
   "source": [
    "df_employee['Attrition'].value_counts()"
   ]
  },
  {
   "cell_type": "code",
   "execution_count": 6,
   "metadata": {},
   "outputs": [],
   "source": [
    "df_employee['Attrition']=df_employee['Attrition'].apply(lambda x : 1 if x=='Yes' else 0)"
   ]
  },
  {
   "cell_type": "code",
   "execution_count": 7,
   "metadata": {},
   "outputs": [
    {
     "data": {
      "image/png": "[encoded data removed]",
      "text/plain": [
       "<Figure size 640x480 with 1 Axes>"
      ]
     },
     "metadata": {},
     "output_type": "display_data"
    }
   ],
   "source": [
    "df_target = df_employee['Attrition'].copy()\n",
    "\n",
    "# get counts of 0's and 1's in the 'Chance of Admit' variable\n",
    "df_target.value_counts()\n",
    "\n",
    "# plot the countplot of the variable 'Chance of Admit'\n",
    "sns.countplot(x = df_target)\n",
    "\n",
    "# use below code to print the values in the graph\n",
    "# 'x' and 'y' gives position of the text\n",
    "# 's' is the text \n",
    "plt.text(x = -0.05, y = df_target.value_counts()[0] + 1, s = str(round((df_target.value_counts()[0])*100/len(df_target),2)) + '%')\n",
    "plt.text(x = 0.95, y = df_target.value_counts()[1] +1, s = str(round((df_target.value_counts()[1])*100/len(df_target),2)) + '%')\n",
    "\n",
    "# add plot and axes labels\n",
    "# set text size using 'fontsize'\n",
    "plt.title('Count Plot for Target Variable (Attrition)', fontsize = 15)\n",
    "plt.xlabel('Target Variable', fontsize = 15)\n",
    "plt.ylabel('Count', fontsize = 15)\n",
    "\n",
    "# to show the plot\n",
    "plt.show()"
   ]
  },
  {
   "cell_type": "markdown",
   "metadata": {
    "collapsed": true,
    "id": "ywmmVv6zRMM-"
   },
   "source": [
    "<table align=\"left\">\n",
    "    <tr>\n",
    "        <td width=\"6%\">\n",
    "            <img src=\"question_icon.png\">\n",
    "        </td>\n",
    "        <td>\n",
    "            <div align=\"left\", style=\"font-size:120%\">\n",
    "                <font color=\"#21618C\">\n",
    "                    <b>1. Write a code to deal with the imbalanced dataset.</b>\n",
    "                </font>\n",
    "            </div>\n",
    "        </td>\n",
    "    </tr>\n",
    "</table>"
   ]
  },
  {
   "cell_type": "code",
   "execution_count": 8,
   "metadata": {},
   "outputs": [
    {
     "name": "stdout",
     "output_type": "stream",
     "text": [
      "Requirement already satisfied: imblearn in c:\\users\\shrut\\anaconda3\\lib\\site-packages (0.0)\n",
      "Requirement already satisfied: imbalanced-learn in c:\\users\\shrut\\anaconda3\\lib\\site-packages (from imblearn) (0.12.0)\n",
      "Requirement already satisfied: scikit-learn>=1.0.2 in c:\\users\\shrut\\anaconda3\\lib\\site-packages (from imbalanced-learn->imblearn) (1.0.2)\n",
      "Requirement already satisfied: threadpoolctl>=2.0.0 in c:\\users\\shrut\\anaconda3\\lib\\site-packages (from imbalanced-learn->imblearn) (2.2.0)\n",
      "Requirement already satisfied: joblib>=1.1.1 in c:\\users\\shrut\\anaconda3\\lib\\site-packages (from imbalanced-learn->imblearn) (1.3.2)\n",
      "Requirement already satisfied: numpy>=1.17.3 in c:\\users\\shrut\\anaconda3\\lib\\site-packages (from imbalanced-learn->imblearn) (1.24.3)\n",
      "Requirement already satisfied: scipy>=1.5.0 in c:\\users\\shrut\\anaconda3\\lib\\site-packages (from imbalanced-learn->imblearn) (1.10.1)\n"
     ]
    }
   ],
   "source": [
    "!pip install imblearn"
   ]
  },
  {
   "cell_type": "code",
   "execution_count": 5,
   "metadata": {
    "id": "DIKLUwxiRMM-"
   },
   "outputs": [],
   "source": [
    "from imblearn.over_sampling import SMOTE\n",
    "from sklearn.model_selection import train_test_split\n",
    "from sklearn.preprocessing import OneHotEncoder\n",
    "import pandas as pd\n",
    "\n",
    "# Assuming your data is stored in a pandas DataFrame named 'df'\n",
    "# Separate features and target variable\n",
    "X = df_employee.drop('Attrition', axis=1)\n",
    "y = df_employee['Attrition']\n",
    "\n",
    "# One-hot encode categorical features\n",
    "categorical_cols = X.select_dtypes(include=['object']).columns.tolist()\n",
    "encoder = OneHotEncoder(sparse=False, drop='first')\n",
    "X_encoded = pd.DataFrame(encoder.fit_transform(X[categorical_cols]))\n",
    "X_encoded.columns = encoder.get_feature_names(categorical_cols)\n",
    "X.drop(categorical_cols, axis=1, inplace=True)\n",
    "X = pd.concat([X, X_encoded], axis=1)\n",
    "\n",
    "# Split the data into training and testing sets\n",
    "X_train, X_test, y_train, y_test = train_test_split(X, y, test_size=0.2, random_state=42)\n",
    "\n",
    "# Apply SMOTE to oversample the minority class\n",
    "smote = SMOTE(random_state=42)\n",
    "X_train_resampled, y_train_resampled = smote.fit_resample(X_train, y_train)"
   ]
  },
  {
   "cell_type": "code",
   "execution_count": 6,
   "metadata": {},
   "outputs": [
    {
     "data": {
      "text/plain": [
       "No     978\n",
       "Yes    978\n",
       "Name: Attrition, dtype: int64"
      ]
     },
     "execution_count": 6,
     "metadata": {},
     "output_type": "execute_result"
    }
   ],
   "source": [
    "y_train_resampled.value_counts()"
   ]
  },
  {
   "cell_type": "markdown",
   "metadata": {
    "id": "z6HRbeL8RMM-"
   },
   "source": [
    "### Let's begin with some hands-on practice exercises"
   ]
  },
  {
   "cell_type": "markdown",
   "metadata": {
    "id": "4zl-iKkARMM-"
   },
   "source": [
    "<a id=\"dtree\"> </a>\n",
    "## 1. Decision tree"
   ]
  },
  {
   "cell_type": "markdown",
   "metadata": {
    "id": "UVuIequDRMM_"
   },
   "source": [
    "## We shall use the employee dataset"
   ]
  },
  {
   "cell_type": "markdown",
   "metadata": {
    "collapsed": true,
    "id": "Md0MjKywRMM_"
   },
   "source": [
    "<table align=\"left\">\n",
    "    <tr>\n",
    "        <td width=\"6%\">\n",
    "            <img src=\"question_icon.png\">\n",
    "        </td>\n",
    "        <td>\n",
    "            <div align=\"left\", style=\"font-size:120%\">\n",
    "                <font color=\"#21618C\">\n",
    "                    <b>2. Build a model to predict whether or not an employee will leave the company based on employee's environment satisfaction and monthly income. Calculate the accuracy for the model.</b>\n",
    "                </font>\n",
    "            </div>\n",
    "        </td>\n",
    "    </tr>\n",
    "</table>"
   ]
  },
  {
   "cell_type": "code",
   "execution_count": 8,
   "metadata": {
    "id": "KCHX4E4jRMM_"
   },
   "outputs": [
    {
     "name": "stdout",
     "output_type": "stream",
     "text": [
      "Accuracy: 0.8673469387755102\n"
     ]
    }
   ],
   "source": [
    "from sklearn.model_selection import train_test_split\n",
    "from sklearn.linear_model import LogisticRegression\n",
    "from sklearn.metrics import accuracy_score\n",
    "\n",
    "# Extract relevant columns\n",
    "X = df_employee[['EnvironmentSatisfaction', 'MonthlyIncome']]\n",
    "y = df_employee['Attrition']\n",
    "\n",
    "# Split the data into training and testing sets\n",
    "X_train, X_test, y_train, y_test = train_test_split(X, y, test_size=0.2, random_state=42)\n",
    "\n",
    "# Train a logistic regression model\n",
    "model = LogisticRegression(random_state=42)\n",
    "model.fit(X_train, y_train)\n",
    "\n",
    "# Make predictions on the testing data\n",
    "y_pred = model.predict(X_test)\n",
    "\n",
    "# Calculate the accuracy of the model\n",
    "accuracy = accuracy_score(y_test, y_pred)\n",
    "print(\"Accuracy:\", accuracy)"
   ]
  },
  {
   "cell_type": "markdown",
   "metadata": {
    "collapsed": true,
    "id": "9qUfzcUbRMM_"
   },
   "source": [
    "<table align=\"left\">\n",
    "    <tr>\n",
    "        <td width=\"6%\">\n",
    "            <img src=\"question_icon.png\">\n",
    "        </td>\n",
    "        <td>\n",
    "            <div align=\"left\", style=\"font-size:120%\">\n",
    "                <font color=\"#21618C\">\n",
    "                    <b>3. Build a full model to predict if an employee will leave the company. Find three features that impact the model prediction the most.</b>\n",
    "                </font>\n",
    "            </div>\n",
    "        </td>\n",
    "    </tr>\n",
    "</table>"
   ]
  },
  {
   "cell_type": "code",
   "execution_count": 37,
   "metadata": {
    "id": "2aFdXUynRMNA"
   },
   "outputs": [
    {
     "name": "stdout",
     "output_type": "stream",
     "text": [
      "Accuracy: 0.7755102040816326\n",
      "Classification Report:\n",
      "              precision    recall  f1-score   support\n",
      "\n",
      "           0       0.87      0.87      0.87       255\n",
      "           1       0.14      0.13      0.13        39\n",
      "\n",
      "    accuracy                           0.78       294\n",
      "   macro avg       0.50      0.50      0.50       294\n",
      "weighted avg       0.77      0.78      0.77       294\n",
      "\n",
      "Top three features:\n",
      "MonthlyIncome\n",
      "EnvironmentSatisfaction\n"
     ]
    },
    {
     "data": {
      "image/png": "[encoded data removed]",
      "text/plain": [
       "<Figure size 1000x600 with 1 Axes>"
      ]
     },
     "metadata": {},
     "output_type": "display_data"
    }
   ],
   "source": [
    "X_train, X_test, y_train, y_test = train_test_split(X, y, test_size=0.2, random_state=42)\n",
    "\n",
    "# Train a random forest classifier\n",
    "model = RandomForestClassifier(n_estimators=100, random_state=42)\n",
    "model.fit(X_train, y_train)\n",
    "\n",
    "# Make predictions on the testing data\n",
    "y_pred = model.predict(X_test)\n",
    "\n",
    "# Calculate the accuracy of the model\n",
    "accuracy = accuracy_score(y_test, y_pred)\n",
    "print(\"Accuracy:\", accuracy)\n",
    "\n",
    "# Generate classification report\n",
    "print(\"Classification Report:\")\n",
    "print(classification_report(y_test, y_pred))\n",
    "\n",
    "# Feature importance\n",
    "feature_importances = model.feature_importances_\n",
    "sorted_indices = feature_importances.argsort()[::-1]\n",
    "top_three_indices = sorted_indices[:3]\n",
    "top_three_features = X.columns[top_three_indices]\n",
    "print(\"Top three features:\")\n",
    "for feature in top_three_features:\n",
    "    print(feature)\n",
    "\n",
    "# Plot feature importances\n",
    "plt.figure(figsize=(10, 6))\n",
    "plt.barh(range(len(feature_importances)), feature_importances)\n",
    "plt.yticks(range(len(feature_importances)), X.columns)\n",
    "plt.xlabel('Feature Importance')\n",
    "plt.ylabel('Feature')\n",
    "plt.title('Feature Importances')\n",
    "plt.show()"
   ]
  },
  {
   "cell_type": "markdown",
   "metadata": {
    "collapsed": true,
    "id": "OHD9UdCFRMNA"
   },
   "source": [
    "<table align=\"left\">\n",
    "    <tr>\n",
    "        <td width=\"6%\">\n",
    "            <img src=\"question_icon.png\">\n",
    "        </td>\n",
    "        <td>\n",
    "            <div align=\"left\", style=\"font-size:120%\">\n",
    "                <font color=\"#21618C\">\n",
    "                    <b>4.  Find the area under the receiver operating characteristic curve for full model built in question 3. </b>\n",
    "                </font>\n",
    "            </div>\n",
    "        </td>\n",
    "    </tr>\n",
    "</table>"
   ]
  },
  {
   "cell_type": "code",
   "execution_count": 13,
   "metadata": {
    "id": "zHJ9tcmnRMNA"
   },
   "outputs": [
    {
     "name": "stdout",
     "output_type": "stream",
     "text": [
      "Area under ROC curve: 0.5662141779788838\n"
     ]
    }
   ],
   "source": [
    "from sklearn.metrics import roc_auc_score\n",
    "\n",
    "# Calculate the predicted probabilities for the positive class\n",
    "y_prob = model.predict_proba(X_test)[:, 1]\n",
    "\n",
    "# Calculate the area under the ROC curve\n",
    "roc_auc = roc_auc_score(y_test, y_prob)\n",
    "print(\"Area under ROC curve:\", roc_auc)"
   ]
  },
  {
   "cell_type": "markdown",
   "metadata": {
    "collapsed": true,
    "id": "2XOH4ZYeRMNA"
   },
   "source": [
    "<table align=\"left\">\n",
    "    <tr>\n",
    "        <td width=\"6%\">\n",
    "            <img src=\"question_icon.png\">\n",
    "        </td>\n",
    "        <td>\n",
    "            <div align=\"left\", style=\"font-size:120%\">\n",
    "                <font color=\"#21618C\">\n",
    "                    <b>5. Plot a confusion matrix for the full model built in Q3.</b>\n",
    "                </font>\n",
    "            </div>\n",
    "        </td>\n",
    "    </tr>\n",
    "</table>"
   ]
  },
  {
   "cell_type": "code",
   "execution_count": 14,
   "metadata": {
    "id": "XReC1GkfRMNB"
   },
   "outputs": [
    {
     "data": {
      "image/png": "[encoded data removed]",
      "text/plain": [
       "<Figure size 640x480 with 2 Axes>"
      ]
     },
     "metadata": {},
     "output_type": "display_data"
    }
   ],
   "source": [
    "from sklearn.metrics import plot_confusion_matrix\n",
    "import matplotlib.pyplot as plt\n",
    "\n",
    "# Plot confusion matrix\n",
    "plot_confusion_matrix(model, X_test, y_test, cmap=plt.cm.Blues, display_labels=['Not Leaving', 'Leaving'])\n",
    "plt.title('Confusion Matrix')\n",
    "plt.show()"
   ]
  },
  {
   "cell_type": "markdown",
   "metadata": {
    "collapsed": true,
    "id": "WSRlZ5ccRMNB"
   },
   "source": [
    "<table align=\"left\">\n",
    "    <tr>\n",
    "        <td width=\"6%\">\n",
    "            <img src=\"question_icon.png\">\n",
    "        </td>\n",
    "        <td>\n",
    "            <div align=\"left\", style=\"font-size:120%\">\n",
    "                <font color=\"#21618C\">\n",
    "                    <b>6. Calculate the specificity, sensitivity, % of misclassified and correctly classified observations. What can you say about the model by looking at the sensitivity and specificity values? Is this a good model?</b>\n",
    "                </font>\n",
    "            </div>\n",
    "        </td>\n",
    "    </tr>\n",
    "</table>"
   ]
  },
  {
   "cell_type": "code",
   "execution_count": 15,
   "metadata": {
    "id": "71u8U-pvRMNB"
   },
   "outputs": [
    {
     "name": "stdout",
     "output_type": "stream",
     "text": [
      "Sensitivity (True Positive Rate): 0.1282051282051282\n",
      "Specificity (True Negative Rate): 0.8745098039215686\n",
      "Percentage of Misclassified Observations: 22.448979591836736\n",
      "Percentage of Correctly Classified Observations: 77.55102040816327\n"
     ]
    }
   ],
   "source": [
    "from sklearn.metrics import confusion_matrix\n",
    "\n",
    "# Get the confusion matrix\n",
    "conf_matrix = confusion_matrix(y_test, y_pred)\n",
    "\n",
    "# Extract values from confusion matrix\n",
    "TN, FP, FN, TP = conf_matrix.ravel()\n",
    "\n",
    "# Calculate sensitivity and specificity\n",
    "sensitivity = TP / (TP + FN)\n",
    "specificity = TN / (TN + FP)\n",
    "\n",
    "# Calculate percentage of misclassified and correctly classified observations\n",
    "misclassified_percent = (FP + FN) / len(y_test) * 100\n",
    "correctly_classified_percent = (TP + TN) / len(y_test) * 100\n",
    "\n",
    "print(\"Sensitivity (True Positive Rate):\", sensitivity)\n",
    "print(\"Specificity (True Negative Rate):\", specificity)\n",
    "print(\"Percentage of Misclassified Observations:\", misclassified_percent)\n",
    "print(\"Percentage of Correctly Classified Observations:\", correctly_classified_percent)"
   ]
  },
  {
   "cell_type": "markdown",
   "metadata": {
    "collapsed": true,
    "id": "5LyU0PH8RMNC"
   },
   "source": [
    "<table align=\"left\">\n",
    "    <tr>\n",
    "        <td width=\"6%\">\n",
    "            <img src=\"question_icon.png\">\n",
    "        </td>\n",
    "        <td>\n",
    "            <div align=\"left\", style=\"font-size:120%\">\n",
    "                <font color=\"#21618C\">\n",
    "                    <b>7. Build and plot a decision tree with maximum 5 terminal nodes.</b>\n",
    "                </font>\n",
    "            </div>\n",
    "        </td>\n",
    "    </tr>\n",
    "</table>"
   ]
  },
  {
   "cell_type": "code",
   "execution_count": 16,
   "metadata": {
    "id": "6qRvO226RMNC"
   },
   "outputs": [
    {
     "data": {
      "image/png": "[encoded data removed]",
      "text/plain": [
       "<Figure size 1000x600 with 1 Axes>"
      ]
     },
     "metadata": {},
     "output_type": "display_data"
    }
   ],
   "source": [
    "from sklearn.tree import DecisionTreeClassifier, plot_tree\n",
    "import matplotlib.pyplot as plt\n",
    "\n",
    "# Build decision tree with maximum 5 terminal nodes\n",
    "tree_model = DecisionTreeClassifier(max_leaf_nodes=5, random_state=42)\n",
    "tree_model.fit(X_train, y_train)\n",
    "\n",
    "# Plot decision tree\n",
    "plt.figure(figsize=(10, 6))\n",
    "plot_tree(tree_model, filled=True, feature_names=X.columns, class_names=['Not Leaving', 'Leaving'])\n",
    "plt.title(\"Decision Tree with Maximum 5 Terminal Nodes\")\n",
    "plt.show()"
   ]
  },
  {
   "cell_type": "markdown",
   "metadata": {
    "collapsed": true,
    "id": "bh7XQvK4RMNC"
   },
   "source": [
    "<table align=\"left\">\n",
    "    <tr>\n",
    "        <td width=\"6%\">\n",
    "            <img src=\"question_icon.png\">\n",
    "        </td>\n",
    "        <td>\n",
    "            <div align=\"left\", style=\"font-size:120%\">\n",
    "                <font color=\"#21618C\">\n",
    "                    <b>8. Build a Decision Tree model with the predefined parameters and find the average accuracy by performing the 10 fold cross validation.</b>\n",
    "                </font>\n",
    "            </div>\n",
    "        </td>\n",
    "    </tr>\n",
    "</table>"
   ]
  },
  {
   "cell_type": "code",
   "execution_count": 17,
   "metadata": {
    "id": "XRJOAxmPRMNC"
   },
   "outputs": [
    {
     "name": "stdout",
     "output_type": "stream",
     "text": [
      "Average Accuracy: 0.827891156462585\n"
     ]
    }
   ],
   "source": [
    "from sklearn.model_selection import cross_val_score\n",
    "from sklearn.tree import DecisionTreeClassifier\n",
    "\n",
    "# Define the Decision Tree model with predefined parameters\n",
    "tree_model = DecisionTreeClassifier(max_depth=5, min_samples_split=2, min_samples_leaf=1, random_state=42)\n",
    "\n",
    "# Perform 10-fold cross-validation and calculate the accuracy for each fold\n",
    "accuracies = cross_val_score(tree_model, X, y, cv=10)\n",
    "\n",
    "# Calculate the average accuracy\n",
    "average_accuracy = accuracies.mean()\n",
    "\n",
    "print(\"Average Accuracy:\", average_accuracy)"
   ]
  },
  {
   "cell_type": "markdown",
   "metadata": {
    "collapsed": true,
    "id": "GnO585SIRMNC"
   },
   "source": [
    "<table align=\"left\">\n",
    "    <tr>\n",
    "        <td width=\"6%\">\n",
    "            <img src=\"question_icon.png\">\n",
    "        </td>\n",
    "        <td>\n",
    "            <div align=\"left\", style=\"font-size:120%\">\n",
    "                <font color=\"#21618C\">\n",
    "                    <b>9. For a decision tree model, find the best value of hyperparameters \"criterion\", \"max_depth\", and \"min_samples_split\".</b>\n",
    "                </font>\n",
    "            </div>\n",
    "        </td>\n",
    "    </tr>\n",
    "</table>"
   ]
  },
  {
   "cell_type": "code",
   "execution_count": 18,
   "metadata": {
    "id": "MexUa3P7RMND"
   },
   "outputs": [
    {
     "name": "stdout",
     "output_type": "stream",
     "text": [
      "Best Hyperparameters: {'criterion': 'entropy', 'max_depth': 5, 'min_samples_split': 2}\n"
     ]
    }
   ],
   "source": [
    "from sklearn.model_selection import GridSearchCV\n",
    "from sklearn.tree import DecisionTreeClassifier\n",
    "\n",
    "# Define the parameter grid\n",
    "param_grid = {\n",
    "    'criterion': ['gini', 'entropy'],\n",
    "    'max_depth': [None, 5, 10, 15, 20],\n",
    "    'min_samples_split': [2, 5, 10]\n",
    "}\n",
    "\n",
    "# Create a decision tree classifier\n",
    "tree_model = DecisionTreeClassifier(random_state=42)\n",
    "\n",
    "# Instantiate the grid search with 10-fold cross-validation\n",
    "grid_search = GridSearchCV(estimator=tree_model, param_grid=param_grid, cv=10, scoring='accuracy')\n",
    "\n",
    "# Perform the grid search\n",
    "grid_search.fit(X, y)\n",
    "\n",
    "# Get the best hyperparameters\n",
    "best_params = grid_search.best_params_\n",
    "print(\"Best Hyperparameters:\", best_params)"
   ]
  },
  {
   "cell_type": "markdown",
   "metadata": {
    "collapsed": true,
    "id": "jDEGzj8CRMND"
   },
   "source": [
    "<table align=\"left\">\n",
    "    <tr>\n",
    "        <td width=\"6%\">\n",
    "            <img src=\"question_icon.png\">\n",
    "        </td>\n",
    "        <td>\n",
    "            <div align=\"left\", style=\"font-size:120%\">\n",
    "                <font color=\"#21618C\">\n",
    "                        <b>10. Build a decision tree model using the tuned hyperparameters, perform 10 fold cross validation and get the average ROC-AUC score.</b>\n",
    "                </font>\n",
    "            </div>\n",
    "        </td>\n",
    "    </tr>\n",
    "</table>"
   ]
  },
  {
   "cell_type": "code",
   "execution_count": 19,
   "metadata": {
    "id": "kmqM_5lPRMND"
   },
   "outputs": [
    {
     "name": "stdout",
     "output_type": "stream",
     "text": [
      "Average ROC-AUC Score: 0.5880315292458674\n"
     ]
    }
   ],
   "source": [
    "from sklearn.model_selection import cross_val_score\n",
    "from sklearn.tree import DecisionTreeClassifier\n",
    "from sklearn.metrics import roc_auc_score\n",
    "\n",
    "# Define the decision tree model with tuned hyperparameters\n",
    "tree_model_tuned = DecisionTreeClassifier(criterion='gini', max_depth=10, min_samples_split=10, random_state=42)\n",
    "\n",
    "# Perform 10-fold cross-validation and calculate ROC-AUC score for each fold\n",
    "roc_auc_scores = cross_val_score(tree_model_tuned, X, y, cv=10, scoring='roc_auc')\n",
    "\n",
    "# Calculate the average ROC-AUC score\n",
    "average_roc_auc = roc_auc_scores.mean()\n",
    "\n",
    "print(\"Average ROC-AUC Score:\", average_roc_auc)"
   ]
  },
  {
   "cell_type": "markdown",
   "metadata": {
    "collapsed": true,
    "id": "hqbbjDiGRMND"
   },
   "source": [
    "<table align=\"left\">\n",
    "    <tr>\n",
    "        <td width=\"6%\">\n",
    "            <img src=\"question_icon.png\">\n",
    "        </td>\n",
    "        <td>\n",
    "            <div align=\"left\", style=\"font-size:120%\">\n",
    "                <font color=\"#21618C\">\n",
    "                    <b>11. Build 5 decision trees each with random 20 features. Also predict the attrition for test set for each model.</b>\n",
    "                </font>\n",
    "            </div>\n",
    "        </td>\n",
    "    </tr>\n",
    "</table>"
   ]
  },
  {
   "cell_type": "code",
   "execution_count": 20,
   "metadata": {
    "id": "crc1doTKRMND"
   },
   "outputs": [
    {
     "name": "stdout",
     "output_type": "stream",
     "text": [
      "Shape of predicted values array: (5, 294)\n"
     ]
    }
   ],
   "source": [
    "from sklearn.tree import DecisionTreeClassifier\n",
    "import numpy as np\n",
    "\n",
    "# Define the number of features to select\n",
    "num_features = 20\n",
    "\n",
    "# Check if the total number of features is less than the desired number of features\n",
    "if num_features > X.shape[1]:\n",
    "    num_features = X.shape[1]\n",
    "\n",
    "# Initialize a list to store the predicted values for each model\n",
    "predicted_values = []\n",
    "\n",
    "# Iterate over 5 decision tree models\n",
    "for i in range(5):\n",
    "    # Randomly select features\n",
    "    selected_features_indices = np.random.choice(range(X.shape[1]), size=num_features, replace=False)\n",
    "    selected_features = X.columns[selected_features_indices]\n",
    "    \n",
    "    # Subset the data with selected features\n",
    "    X_subset = X[selected_features]\n",
    "    \n",
    "    # Build a decision tree model\n",
    "    tree_model = DecisionTreeClassifier(random_state=42)\n",
    "    tree_model.fit(X_subset, y)\n",
    "    \n",
    "    # Predict the attrition for the test set\n",
    "    X_test_subset = X_test[selected_features]\n",
    "    y_pred = tree_model.predict(X_test_subset)\n",
    "    \n",
    "    # Append the predicted values to the list\n",
    "    predicted_values.append(y_pred)\n",
    "\n",
    "# Convert the list of predicted values to a numpy array\n",
    "predicted_values = np.array(predicted_values)\n",
    "\n",
    "# Display the shape of the array (number of models, number of samples)\n",
    "print(\"Shape of predicted values array:\", predicted_values.shape)"
   ]
  },
  {
   "cell_type": "markdown",
   "metadata": {
    "collapsed": true,
    "id": "eiugXu3ERMNE"
   },
   "source": [
    "<table align=\"left\">\n",
    "    <tr>\n",
    "        <td width=\"6%\">\n",
    "            <img src=\"question_icon.png\">\n",
    "        </td>\n",
    "        <td>\n",
    "            <div align=\"left\", style=\"font-size:120%\">\n",
    "                <font color=\"#21618C\">\n",
    "                    <b>12. Create a new dataframe \"model_predictions_df\" by appending each prediction made in question 8. There will be 5 columns in the dataframe for each prediction using the decision tree models built in above question.</b>\n",
    "                </font>\n",
    "            </div>\n",
    "        </td>\n",
    "    </tr>\n",
    "</table>"
   ]
  },
  {
   "cell_type": "code",
   "execution_count": 21,
   "metadata": {
    "id": "eRNN2lIsRMNE"
   },
   "outputs": [
    {
     "name": "stdout",
     "output_type": "stream",
     "text": [
      "     Model_1  Model_2  Model_3  Model_4  Model_5\n",
      "0          0        0        0        0        0\n",
      "1          0        0        0        0        0\n",
      "2          1        1        1        1        1\n",
      "3          0        0        0        0        0\n",
      "4          0        0        0        0        0\n",
      "5          0        0        0        0        0\n",
      "6          0        0        0        0        0\n",
      "7          0        0        0        0        0\n",
      "8          0        0        0        0        0\n",
      "9          0        0        0        0        0\n",
      "10         0        0        0        0        0\n",
      "11         0        0        0        0        0\n",
      "12         0        0        0        0        0\n",
      "13         0        0        0        0        0\n",
      "14         0        0        0        0        0\n",
      "15         0        0        0        0        0\n",
      "16         0        0        0        0        0\n",
      "17         0        0        0        0        0\n",
      "18         1        1        1        1        1\n",
      "19         0        0        0        0        0\n",
      "20         1        1        1        1        1\n",
      "21         0        0        0        0        0\n",
      "22         0        0        0        0        0\n",
      "23         0        0        0        0        0\n",
      "24         0        0        0        0        0\n",
      "25         0        0        0        0        0\n",
      "26         0        0        0        0        0\n",
      "27         0        0        0        0        0\n",
      "28         0        0        0        0        0\n",
      "29         0        0        0        0        0\n",
      "30         0        0        0        0        0\n",
      "31         0        0        0        0        0\n",
      "32         0        0        0        0        0\n",
      "33         0        0        0        0        0\n",
      "34         1        1        1        1        1\n",
      "35         0        0        0        0        0\n",
      "36         0        0        0        0        0\n",
      "37         1        1        1        1        1\n",
      "38         1        1        1        1        1\n",
      "39         0        0        0        0        0\n",
      "40         0        0        0        0        0\n",
      "41         0        0        0        0        0\n",
      "42         0        0        0        0        0\n",
      "43         0        0        0        0        0\n",
      "44         1        1        1        1        1\n",
      "45         0        0        0        0        0\n",
      "46         1        1        1        1        1\n",
      "47         1        1        1        1        1\n",
      "48         1        1        1        1        1\n",
      "49         1        1        1        1        1\n",
      "50         0        0        0        0        0\n",
      "51         0        0        0        0        0\n",
      "52         0        0        0        0        0\n",
      "53         0        0        0        0        0\n",
      "54         0        0        0        0        0\n",
      "55         0        0        0        0        0\n",
      "56         0        0        0        0        0\n",
      "57         0        0        0        0        0\n",
      "58         0        0        0        0        0\n",
      "59         0        0        0        0        0\n",
      "60         0        0        0        0        0\n",
      "61         1        1        1        1        1\n",
      "62         1        1        1        1        1\n",
      "63         0        0        0        0        0\n",
      "64         1        1        1        1        1\n",
      "65         1        1        1        1        1\n",
      "66         0        0        0        0        0\n",
      "67         0        0        0        0        0\n",
      "68         0        0        0        0        0\n",
      "69         0        0        0        0        0\n",
      "70         0        0        0        0        0\n",
      "71         0        0        0        0        0\n",
      "72         0        0        0        0        0\n",
      "73         0        0        0        0        0\n",
      "74         0        0        0        0        0\n",
      "75         0        0        0        0        0\n",
      "76         0        0        0        0        0\n",
      "77         0        0        0        0        0\n",
      "78         0        0        0        0        0\n",
      "79         0        0        0        0        0\n",
      "80         0        0        0        0        0\n",
      "81         0        0        0        0        0\n",
      "82         0        0        0        0        0\n",
      "83         0        0        0        0        0\n",
      "84         1        1        1        1        1\n",
      "85         0        0        0        0        0\n",
      "86         0        0        0        0        0\n",
      "87         0        0        0        0        0\n",
      "88         0        0        0        0        0\n",
      "89         0        0        0        0        0\n",
      "90         0        0        0        0        0\n",
      "91         0        0        0        0        0\n",
      "92         0        0        0        0        0\n",
      "93         0        0        0        0        0\n",
      "94         0        0        0        0        0\n",
      "95         0        0        0        0        0\n",
      "96         0        0        0        0        0\n",
      "97         0        0        0        0        0\n",
      "98         0        0        0        0        0\n",
      "99         0        0        0        0        0\n",
      "100        0        0        0        0        0\n",
      "101        0        0        0        0        0\n",
      "102        1        1        1        1        1\n",
      "103        0        0        0        0        0\n",
      "104        0        0        0        0        0\n",
      "105        0        0        0        0        0\n",
      "106        0        0        0        0        0\n",
      "107        0        0        0        0        0\n",
      "108        0        0        0        0        0\n",
      "109        0        0        0        0        0\n",
      "110        1        1        1        1        1\n",
      "111        0        0        0        0        0\n",
      "112        0        0        0        0        0\n",
      "113        0        0        0        0        0\n",
      "114        0        0        0        0        0\n",
      "115        0        0        0        0        0\n",
      "116        0        0        0        0        0\n",
      "117        0        0        0        0        0\n",
      "118        0        0        0        0        0\n",
      "119        0        0        0        0        0\n",
      "120        0        0        0        0        0\n",
      "121        0        0        0        0        0\n",
      "122        0        0        0        0        0\n",
      "123        0        0        0        0        0\n",
      "124        0        0        0        0        0\n",
      "125        1        1        1        1        1\n",
      "126        0        0        0        0        0\n",
      "127        1        1        1        1        1\n",
      "128        0        0        0        0        0\n",
      "129        0        0        0        0        0\n",
      "130        0        0        0        0        0\n",
      "131        0        0        0        0        0\n",
      "132        0        0        0        0        0\n",
      "133        1        1        1        1        1\n",
      "134        0        0        0        0        0\n",
      "135        0        0        0        0        0\n",
      "136        0        0        0        0        0\n",
      "137        1        1        1        1        1\n",
      "138        0        0        0        0        0\n",
      "139        0        0        0        0        0\n",
      "140        0        0        0        0        0\n",
      "141        0        0        0        0        0\n",
      "142        0        0        0        0        0\n",
      "143        0        0        0        0        0\n",
      "144        0        0        0        0        0\n",
      "145        0        0        0        0        0\n",
      "146        0        0        0        0        0\n",
      "147        1        1        1        1        1\n",
      "148        0        0        0        0        0\n",
      "149        1        1        1        1        1\n",
      "150        0        0        0        0        0\n",
      "151        1        1        1        1        1\n",
      "152        0        0        0        0        0\n",
      "153        1        1        1        1        1\n",
      "154        0        0        0        0        0\n",
      "155        1        1        1        1        1\n",
      "156        0        0        0        0        0\n",
      "157        0        0        0        0        0\n",
      "158        0        0        0        0        0\n",
      "159        0        0        0        0        0\n",
      "160        1        1        1        1        1\n",
      "161        0        0        0        0        0\n",
      "162        0        0        0        0        0\n",
      "163        0        0        0        0        0\n",
      "164        0        0        0        0        0\n",
      "165        0        0        0        0        0\n",
      "166        0        0        0        0        0\n",
      "167        0        0        0        0        0\n",
      "168        0        0        0        0        0\n",
      "169        0        0        0        0        0\n",
      "170        0        0        0        0        0\n",
      "171        0        0        0        0        0\n",
      "172        0        0        0        0        0\n",
      "173        0        0        0        0        0\n",
      "174        0        0        0        0        0\n",
      "175        0        0        0        0        0\n",
      "176        0        0        0        0        0\n",
      "177        0        0        0        0        0\n",
      "178        0        0        0        0        0\n",
      "179        0        0        0        0        0\n",
      "180        0        0        0        0        0\n",
      "181        0        0        0        0        0\n",
      "182        0        0        0        0        0\n",
      "183        0        0        0        0        0\n",
      "184        0        0        0        0        0\n",
      "185        0        0        0        0        0\n",
      "186        0        0        0        0        0\n",
      "187        0        0        0        0        0\n",
      "188        1        1        1        1        1\n",
      "189        0        0        0        0        0\n",
      "190        0        0        0        0        0\n",
      "191        0        0        0        0        0\n",
      "192        0        0        0        0        0\n",
      "193        0        0        0        0        0\n",
      "194        0        0        0        0        0\n",
      "195        0        0        0        0        0\n",
      "196        0        0        0        0        0\n",
      "197        0        0        0        0        0\n",
      "198        0        0        0        0        0\n",
      "199        0        0        0        0        0\n",
      "200        0        0        0        0        0\n",
      "201        0        0        0        0        0\n",
      "202        0        0        0        0        0\n",
      "203        0        0        0        0        0\n",
      "204        0        0        0        0        0\n",
      "205        0        0        0        0        0\n",
      "206        0        0        0        0        0\n",
      "207        0        0        0        0        0\n",
      "208        0        0        0        0        0\n",
      "209        0        0        0        0        0\n",
      "210        0        0        0        0        0\n",
      "211        1        1        1        1        1\n",
      "212        0        0        0        0        0\n",
      "213        0        0        0        0        0\n",
      "214        0        0        0        0        0\n",
      "215        0        0        0        0        0\n",
      "216        0        0        0        0        0\n",
      "217        0        0        0        0        0\n",
      "218        0        0        0        0        0\n",
      "219        0        0        0        0        0\n",
      "220        0        0        0        0        0\n",
      "221        0        0        0        0        0\n",
      "222        0        0        0        0        0\n",
      "223        1        1        1        1        1\n",
      "224        0        0        0        0        0\n",
      "225        0        0        0        0        0\n",
      "226        0        0        0        0        0\n",
      "227        0        0        0        0        0\n",
      "228        0        0        0        0        0\n",
      "229        0        0        0        0        0\n",
      "230        0        0        0        0        0\n",
      "231        1        1        1        1        1\n",
      "232        0        0        0        0        0\n",
      "233        0        0        0        0        0\n",
      "234        0        0        0        0        0\n",
      "235        0        0        0        0        0\n",
      "236        0        0        0        0        0\n",
      "237        1        1        1        1        1\n",
      "238        0        0        0        0        0\n",
      "239        0        0        0        0        0\n",
      "240        1        1        1        1        1\n",
      "241        0        0        0        0        0\n",
      "242        1        1        1        1        1\n",
      "243        0        0        0        0        0\n",
      "244        0        0        0        0        0\n",
      "245        0        0        0        0        0\n",
      "246        0        0        0        0        0\n",
      "247        0        0        0        0        0\n",
      "248        0        0        0        0        0\n",
      "249        0        0        0        0        0\n",
      "250        0        0        0        0        0\n",
      "251        0        0        0        0        0\n",
      "252        0        0        0        0        0\n",
      "253        0        0        0        0        0\n",
      "254        0        0        0        0        0\n",
      "255        0        0        0        0        0\n",
      "256        0        0        0        0        0\n",
      "257        1        1        1        1        1\n",
      "258        0        0        0        0        0\n",
      "259        0        0        0        0        0\n",
      "260        0        0        0        0        0\n",
      "261        0        0        0        0        0\n",
      "262        0        0        0        0        0\n",
      "263        0        0        0        0        0\n",
      "264        0        0        0        0        0\n",
      "265        0        0        0        0        0\n",
      "266        0        0        0        0        0\n",
      "267        0        0        0        0        0\n",
      "268        0        0        0        0        0\n",
      "269        0        0        0        0        0\n",
      "270        0        0        0        0        0\n",
      "271        0        0        0        0        0\n",
      "272        0        0        0        0        0\n",
      "273        1        1        1        1        1\n",
      "274        0        0        0        0        0\n",
      "275        0        0        0        0        0\n",
      "276        0        0        0        0        0\n",
      "277        0        0        0        0        0\n",
      "278        0        0        0        0        0\n",
      "279        0        0        0        0        0\n",
      "280        0        0        0        0        0\n",
      "281        0        0        0        0        0\n",
      "282        0        0        0        0        0\n",
      "283        0        0        0        0        0\n",
      "284        0        0        0        0        0\n",
      "285        0        0        0        0        0\n",
      "286        0        0        0        0        0\n",
      "287        0        0        0        0        0\n",
      "288        0        0        0        0        0\n",
      "289        0        0        0        0        0\n",
      "290        0        0        0        0        0\n",
      "291        0        0        0        0        0\n",
      "292        0        0        0        0        0\n",
      "293        0        0        0        0        0\n"
     ]
    }
   ],
   "source": [
    "import pandas as pd\n",
    "\n",
    "# Define the column names for the DataFrame\n",
    "column_names = [f\"Model_{i+1}\" for i in range(5)]\n",
    "\n",
    "# Create the DataFrame with the predictions\n",
    "model_predictions_df = pd.DataFrame(predicted_values.T, columns=column_names)\n",
    "\n",
    "# Display the DataFrame\n",
    "print(model_predictions_df)"
   ]
  },
  {
   "cell_type": "markdown",
   "metadata": {
    "collapsed": true,
    "id": "hEok9GU8RMNE"
   },
   "source": [
    "<table align=\"left\">\n",
    "    <tr>\n",
    "        <td width=\"6%\">\n",
    "            <img src=\"question_icon.png\">\n",
    "        </td>\n",
    "        <td>\n",
    "            <div align=\"left\", style=\"font-size:120%\">\n",
    "                <font color=\"#21618C\">\n",
    "                    <b>13. Create a new column \"Voted_Result\" in the dataframe \"model_predictions_df\" that contains the maximum occuring value (mode) of the 5 columns in the dataframe (row-wise).<br></b>\n",
    "                </font>\n",
    "            </div>\n",
    "        </td>\n",
    "    </tr>\n",
    "</table>"
   ]
  },
  {
   "cell_type": "code",
   "execution_count": 22,
   "metadata": {
    "id": "FdceXsQsRMNE"
   },
   "outputs": [
    {
     "name": "stdout",
     "output_type": "stream",
     "text": [
      "     Model_1  Model_2  Model_3  Model_4  Model_5  Voted_Result\n",
      "0          0        0        0        0        0             0\n",
      "1          0        0        0        0        0             0\n",
      "2          1        1        1        1        1             1\n",
      "3          0        0        0        0        0             0\n",
      "4          0        0        0        0        0             0\n",
      "5          0        0        0        0        0             0\n",
      "6          0        0        0        0        0             0\n",
      "7          0        0        0        0        0             0\n",
      "8          0        0        0        0        0             0\n",
      "9          0        0        0        0        0             0\n",
      "10         0        0        0        0        0             0\n",
      "11         0        0        0        0        0             0\n",
      "12         0        0        0        0        0             0\n",
      "13         0        0        0        0        0             0\n",
      "14         0        0        0        0        0             0\n",
      "15         0        0        0        0        0             0\n",
      "16         0        0        0        0        0             0\n",
      "17         0        0        0        0        0             0\n",
      "18         1        1        1        1        1             1\n",
      "19         0        0        0        0        0             0\n",
      "20         1        1        1        1        1             1\n",
      "21         0        0        0        0        0             0\n",
      "22         0        0        0        0        0             0\n",
      "23         0        0        0        0        0             0\n",
      "24         0        0        0        0        0             0\n",
      "25         0        0        0        0        0             0\n",
      "26         0        0        0        0        0             0\n",
      "27         0        0        0        0        0             0\n",
      "28         0        0        0        0        0             0\n",
      "29         0        0        0        0        0             0\n",
      "30         0        0        0        0        0             0\n",
      "31         0        0        0        0        0             0\n",
      "32         0        0        0        0        0             0\n",
      "33         0        0        0        0        0             0\n",
      "34         1        1        1        1        1             1\n",
      "35         0        0        0        0        0             0\n",
      "36         0        0        0        0        0             0\n",
      "37         1        1        1        1        1             1\n",
      "38         1        1        1        1        1             1\n",
      "39         0        0        0        0        0             0\n",
      "40         0        0        0        0        0             0\n",
      "41         0        0        0        0        0             0\n",
      "42         0        0        0        0        0             0\n",
      "43         0        0        0        0        0             0\n",
      "44         1        1        1        1        1             1\n",
      "45         0        0        0        0        0             0\n",
      "46         1        1        1        1        1             1\n",
      "47         1        1        1        1        1             1\n",
      "48         1        1        1        1        1             1\n",
      "49         1        1        1        1        1             1\n",
      "50         0        0        0        0        0             0\n",
      "51         0        0        0        0        0             0\n",
      "52         0        0        0        0        0             0\n",
      "53         0        0        0        0        0             0\n",
      "54         0        0        0        0        0             0\n",
      "55         0        0        0        0        0             0\n",
      "56         0        0        0        0        0             0\n",
      "57         0        0        0        0        0             0\n",
      "58         0        0        0        0        0             0\n",
      "59         0        0        0        0        0             0\n",
      "60         0        0        0        0        0             0\n",
      "61         1        1        1        1        1             1\n",
      "62         1        1        1        1        1             1\n",
      "63         0        0        0        0        0             0\n",
      "64         1        1        1        1        1             1\n",
      "65         1        1        1        1        1             1\n",
      "66         0        0        0        0        0             0\n",
      "67         0        0        0        0        0             0\n",
      "68         0        0        0        0        0             0\n",
      "69         0        0        0        0        0             0\n",
      "70         0        0        0        0        0             0\n",
      "71         0        0        0        0        0             0\n",
      "72         0        0        0        0        0             0\n",
      "73         0        0        0        0        0             0\n",
      "74         0        0        0        0        0             0\n",
      "75         0        0        0        0        0             0\n",
      "76         0        0        0        0        0             0\n",
      "77         0        0        0        0        0             0\n",
      "78         0        0        0        0        0             0\n",
      "79         0        0        0        0        0             0\n",
      "80         0        0        0        0        0             0\n",
      "81         0        0        0        0        0             0\n",
      "82         0        0        0        0        0             0\n",
      "83         0        0        0        0        0             0\n",
      "84         1        1        1        1        1             1\n",
      "85         0        0        0        0        0             0\n",
      "86         0        0        0        0        0             0\n",
      "87         0        0        0        0        0             0\n",
      "88         0        0        0        0        0             0\n",
      "89         0        0        0        0        0             0\n",
      "90         0        0        0        0        0             0\n",
      "91         0        0        0        0        0             0\n",
      "92         0        0        0        0        0             0\n",
      "93         0        0        0        0        0             0\n",
      "94         0        0        0        0        0             0\n",
      "95         0        0        0        0        0             0\n",
      "96         0        0        0        0        0             0\n",
      "97         0        0        0        0        0             0\n",
      "98         0        0        0        0        0             0\n",
      "99         0        0        0        0        0             0\n",
      "100        0        0        0        0        0             0\n",
      "101        0        0        0        0        0             0\n",
      "102        1        1        1        1        1             1\n",
      "103        0        0        0        0        0             0\n",
      "104        0        0        0        0        0             0\n",
      "105        0        0        0        0        0             0\n",
      "106        0        0        0        0        0             0\n",
      "107        0        0        0        0        0             0\n",
      "108        0        0        0        0        0             0\n",
      "109        0        0        0        0        0             0\n",
      "110        1        1        1        1        1             1\n",
      "111        0        0        0        0        0             0\n",
      "112        0        0        0        0        0             0\n",
      "113        0        0        0        0        0             0\n",
      "114        0        0        0        0        0             0\n",
      "115        0        0        0        0        0             0\n",
      "116        0        0        0        0        0             0\n",
      "117        0        0        0        0        0             0\n",
      "118        0        0        0        0        0             0\n",
      "119        0        0        0        0        0             0\n",
      "120        0        0        0        0        0             0\n",
      "121        0        0        0        0        0             0\n",
      "122        0        0        0        0        0             0\n",
      "123        0        0        0        0        0             0\n",
      "124        0        0        0        0        0             0\n",
      "125        1        1        1        1        1             1\n",
      "126        0        0        0        0        0             0\n",
      "127        1        1        1        1        1             1\n",
      "128        0        0        0        0        0             0\n",
      "129        0        0        0        0        0             0\n",
      "130        0        0        0        0        0             0\n",
      "131        0        0        0        0        0             0\n",
      "132        0        0        0        0        0             0\n",
      "133        1        1        1        1        1             1\n",
      "134        0        0        0        0        0             0\n",
      "135        0        0        0        0        0             0\n",
      "136        0        0        0        0        0             0\n",
      "137        1        1        1        1        1             1\n",
      "138        0        0        0        0        0             0\n",
      "139        0        0        0        0        0             0\n",
      "140        0        0        0        0        0             0\n",
      "141        0        0        0        0        0             0\n",
      "142        0        0        0        0        0             0\n",
      "143        0        0        0        0        0             0\n",
      "144        0        0        0        0        0             0\n",
      "145        0        0        0        0        0             0\n",
      "146        0        0        0        0        0             0\n",
      "147        1        1        1        1        1             1\n",
      "148        0        0        0        0        0             0\n",
      "149        1        1        1        1        1             1\n",
      "150        0        0        0        0        0             0\n",
      "151        1        1        1        1        1             1\n",
      "152        0        0        0        0        0             0\n",
      "153        1        1        1        1        1             1\n",
      "154        0        0        0        0        0             0\n",
      "155        1        1        1        1        1             1\n",
      "156        0        0        0        0        0             0\n",
      "157        0        0        0        0        0             0\n",
      "158        0        0        0        0        0             0\n",
      "159        0        0        0        0        0             0\n",
      "160        1        1        1        1        1             1\n",
      "161        0        0        0        0        0             0\n",
      "162        0        0        0        0        0             0\n",
      "163        0        0        0        0        0             0\n",
      "164        0        0        0        0        0             0\n",
      "165        0        0        0        0        0             0\n",
      "166        0        0        0        0        0             0\n",
      "167        0        0        0        0        0             0\n",
      "168        0        0        0        0        0             0\n",
      "169        0        0        0        0        0             0\n",
      "170        0        0        0        0        0             0\n",
      "171        0        0        0        0        0             0\n",
      "172        0        0        0        0        0             0\n",
      "173        0        0        0        0        0             0\n",
      "174        0        0        0        0        0             0\n",
      "175        0        0        0        0        0             0\n",
      "176        0        0        0        0        0             0\n",
      "177        0        0        0        0        0             0\n",
      "178        0        0        0        0        0             0\n",
      "179        0        0        0        0        0             0\n",
      "180        0        0        0        0        0             0\n",
      "181        0        0        0        0        0             0\n",
      "182        0        0        0        0        0             0\n",
      "183        0        0        0        0        0             0\n",
      "184        0        0        0        0        0             0\n",
      "185        0        0        0        0        0             0\n",
      "186        0        0        0        0        0             0\n",
      "187        0        0        0        0        0             0\n",
      "188        1        1        1        1        1             1\n",
      "189        0        0        0        0        0             0\n",
      "190        0        0        0        0        0             0\n",
      "191        0        0        0        0        0             0\n",
      "192        0        0        0        0        0             0\n",
      "193        0        0        0        0        0             0\n",
      "194        0        0        0        0        0             0\n",
      "195        0        0        0        0        0             0\n",
      "196        0        0        0        0        0             0\n",
      "197        0        0        0        0        0             0\n",
      "198        0        0        0        0        0             0\n",
      "199        0        0        0        0        0             0\n",
      "200        0        0        0        0        0             0\n",
      "201        0        0        0        0        0             0\n",
      "202        0        0        0        0        0             0\n",
      "203        0        0        0        0        0             0\n",
      "204        0        0        0        0        0             0\n",
      "205        0        0        0        0        0             0\n",
      "206        0        0        0        0        0             0\n",
      "207        0        0        0        0        0             0\n",
      "208        0        0        0        0        0             0\n",
      "209        0        0        0        0        0             0\n",
      "210        0        0        0        0        0             0\n",
      "211        1        1        1        1        1             1\n",
      "212        0        0        0        0        0             0\n",
      "213        0        0        0        0        0             0\n",
      "214        0        0        0        0        0             0\n",
      "215        0        0        0        0        0             0\n",
      "216        0        0        0        0        0             0\n",
      "217        0        0        0        0        0             0\n",
      "218        0        0        0        0        0             0\n",
      "219        0        0        0        0        0             0\n",
      "220        0        0        0        0        0             0\n",
      "221        0        0        0        0        0             0\n",
      "222        0        0        0        0        0             0\n",
      "223        1        1        1        1        1             1\n",
      "224        0        0        0        0        0             0\n",
      "225        0        0        0        0        0             0\n",
      "226        0        0        0        0        0             0\n",
      "227        0        0        0        0        0             0\n",
      "228        0        0        0        0        0             0\n",
      "229        0        0        0        0        0             0\n",
      "230        0        0        0        0        0             0\n",
      "231        1        1        1        1        1             1\n",
      "232        0        0        0        0        0             0\n",
      "233        0        0        0        0        0             0\n",
      "234        0        0        0        0        0             0\n",
      "235        0        0        0        0        0             0\n",
      "236        0        0        0        0        0             0\n",
      "237        1        1        1        1        1             1\n",
      "238        0        0        0        0        0             0\n",
      "239        0        0        0        0        0             0\n",
      "240        1        1        1        1        1             1\n",
      "241        0        0        0        0        0             0\n",
      "242        1        1        1        1        1             1\n",
      "243        0        0        0        0        0             0\n",
      "244        0        0        0        0        0             0\n",
      "245        0        0        0        0        0             0\n",
      "246        0        0        0        0        0             0\n",
      "247        0        0        0        0        0             0\n",
      "248        0        0        0        0        0             0\n",
      "249        0        0        0        0        0             0\n",
      "250        0        0        0        0        0             0\n",
      "251        0        0        0        0        0             0\n",
      "252        0        0        0        0        0             0\n",
      "253        0        0        0        0        0             0\n",
      "254        0        0        0        0        0             0\n",
      "255        0        0        0        0        0             0\n",
      "256        0        0        0        0        0             0\n",
      "257        1        1        1        1        1             1\n",
      "258        0        0        0        0        0             0\n",
      "259        0        0        0        0        0             0\n",
      "260        0        0        0        0        0             0\n",
      "261        0        0        0        0        0             0\n",
      "262        0        0        0        0        0             0\n",
      "263        0        0        0        0        0             0\n",
      "264        0        0        0        0        0             0\n",
      "265        0        0        0        0        0             0\n",
      "266        0        0        0        0        0             0\n",
      "267        0        0        0        0        0             0\n",
      "268        0        0        0        0        0             0\n",
      "269        0        0        0        0        0             0\n",
      "270        0        0        0        0        0             0\n",
      "271        0        0        0        0        0             0\n",
      "272        0        0        0        0        0             0\n",
      "273        1        1        1        1        1             1\n",
      "274        0        0        0        0        0             0\n",
      "275        0        0        0        0        0             0\n",
      "276        0        0        0        0        0             0\n",
      "277        0        0        0        0        0             0\n",
      "278        0        0        0        0        0             0\n",
      "279        0        0        0        0        0             0\n",
      "280        0        0        0        0        0             0\n",
      "281        0        0        0        0        0             0\n",
      "282        0        0        0        0        0             0\n",
      "283        0        0        0        0        0             0\n",
      "284        0        0        0        0        0             0\n",
      "285        0        0        0        0        0             0\n",
      "286        0        0        0        0        0             0\n",
      "287        0        0        0        0        0             0\n",
      "288        0        0        0        0        0             0\n",
      "289        0        0        0        0        0             0\n",
      "290        0        0        0        0        0             0\n",
      "291        0        0        0        0        0             0\n",
      "292        0        0        0        0        0             0\n",
      "293        0        0        0        0        0             0\n"
     ]
    }
   ],
   "source": [
    "# Calculate the mode along the row axis\n",
    "voted_result = model_predictions_df.mode(axis=1)[0]\n",
    "\n",
    "# Add the \"Voted_Result\" column to the DataFrame\n",
    "model_predictions_df['Voted_Result'] = voted_result\n",
    "\n",
    "# Display the updated DataFrame\n",
    "print(model_predictions_df)"
   ]
  },
  {
   "cell_type": "markdown",
   "metadata": {
    "collapsed": true,
    "id": "FGj9y2MtRMNE"
   },
   "source": [
    "<table align=\"left\">\n",
    "    <tr>\n",
    "        <td width=\"6%\">\n",
    "            <img src=\"question_icon.png\">\n",
    "        </td>\n",
    "        <td>\n",
    "            <div align=\"left\", style=\"font-size:120%\">\n",
    "                <font color=\"#21618C\">\n",
    "                    <b>14. Consider the values of \"Voted_Result\" as our new predictions and store its values in a variable \"new_y_pred\" and find the accuracy and the roc-auc score using new_y_pred.</b>\n",
    "                </font>\n",
    "            </div>\n",
    "        </td>\n",
    "    </tr>\n",
    "</table>"
   ]
  },
  {
   "cell_type": "code",
   "execution_count": 23,
   "metadata": {
    "id": "y3LnsrngRMNE"
   },
   "outputs": [
    {
     "name": "stdout",
     "output_type": "stream",
     "text": [
      "Accuracy using Voted_Result: 0.9931972789115646\n",
      "ROC-AUC score using Voted_Result: 0.9743589743589743\n"
     ]
    }
   ],
   "source": [
    "# Extract the \"Voted_Result\" column from the DataFrame\n",
    "voted_result_predictions = model_predictions_df['Voted_Result']\n",
    "\n",
    "# Store the values of \"Voted_Result\" in the variable new_y_pred\n",
    "new_y_pred = voted_result_predictions.values\n",
    "\n",
    "# Calculate the accuracy using new_y_pred\n",
    "accuracy = accuracy_score(y_test, new_y_pred)\n",
    "\n",
    "# Calculate the ROC-AUC score using new_y_pred\n",
    "roc_auc = roc_auc_score(y_test, new_y_pred)\n",
    "\n",
    "print(\"Accuracy using Voted_Result:\", accuracy)\n",
    "print(\"ROC-AUC score using Voted_Result:\", roc_auc)"
   ]
  },
  {
   "cell_type": "markdown",
   "metadata": {
    "id": "vPVUEJzCRMNF"
   },
   "source": [
    "<a id=\"rf\"> </a>\n",
    "## 2. Random Forest"
   ]
  },
  {
   "cell_type": "markdown",
   "metadata": {
    "collapsed": true,
    "id": "Hw4Wv5O6RMNF"
   },
   "source": [
    "<table align=\"left\">\n",
    "    <tr>\n",
    "        <td width=\"6%\">\n",
    "            <img src=\"question_icon.png\">\n",
    "        </td>\n",
    "        <td>\n",
    "            <div align=\"left\", style=\"font-size:120%\">\n",
    "                <font color=\"#21618C\">\n",
    "                    <b>15. Build a random forest full model to predict if an employee will leave the company or not and generate a classification report.</b>\n",
    "                </font>\n",
    "            </div>\n",
    "        </td>\n",
    "    </tr>\n",
    "</table>"
   ]
  },
  {
   "cell_type": "code",
   "execution_count": 24,
   "metadata": {
    "id": "zd3GgERMRMNF"
   },
   "outputs": [
    {
     "name": "stdout",
     "output_type": "stream",
     "text": [
      "Classification Report:\n",
      "              precision    recall  f1-score   support\n",
      "\n",
      "           0       0.87      0.87      0.87       255\n",
      "           1       0.14      0.13      0.13        39\n",
      "\n",
      "    accuracy                           0.78       294\n",
      "   macro avg       0.50      0.50      0.50       294\n",
      "weighted avg       0.77      0.78      0.77       294\n",
      "\n"
     ]
    }
   ],
   "source": [
    "from sklearn.ensemble import RandomForestClassifier\n",
    "from sklearn.metrics import classification_report\n",
    "\n",
    "# Initialize the random forest classifier\n",
    "rf_model = RandomForestClassifier(random_state=42)\n",
    "\n",
    "# Train the model\n",
    "rf_model.fit(X_train, y_train)\n",
    "\n",
    "# Make predictions on the test set\n",
    "y_pred = rf_model.predict(X_test)\n",
    "\n",
    "# Generate a classification report\n",
    "report = classification_report(y_test, y_pred)\n",
    "\n",
    "print(\"Classification Report:\")\n",
    "print(report)"
   ]
  },
  {
   "cell_type": "code",
   "execution_count": 25,
   "metadata": {},
   "outputs": [
    {
     "ename": "ValueError",
     "evalue": "X has 2 features, but RandomForestClassifier is expecting 30 features as input.",
     "output_type": "error",
     "traceback": [
      "\u001b[1;31m---------------------------------------------------------------------------\u001b[0m",
      "\u001b[1;31mValueError\u001b[0m                                Traceback (most recent call last)",
      "\u001b[1;32m~\\AppData\\Local\\Temp\\ipykernel_14460\\500124338.py\u001b[0m in \u001b[0;36m<module>\u001b[1;34m\u001b[0m\n\u001b[0;32m      6\u001b[0m \u001b[1;33m\u001b[0m\u001b[0m\n\u001b[0;32m      7\u001b[0m \u001b[1;31m# Make predictions on the test set\u001b[0m\u001b[1;33m\u001b[0m\u001b[1;33m\u001b[0m\u001b[0m\n\u001b[1;32m----> 8\u001b[1;33m \u001b[0my_pred\u001b[0m \u001b[1;33m=\u001b[0m \u001b[0mrf_model\u001b[0m\u001b[1;33m.\u001b[0m\u001b[0mpredict\u001b[0m\u001b[1;33m(\u001b[0m\u001b[0mX_test\u001b[0m\u001b[1;33m)\u001b[0m\u001b[1;33m\u001b[0m\u001b[1;33m\u001b[0m\u001b[0m\n\u001b[0m\u001b[0;32m      9\u001b[0m \u001b[1;33m\u001b[0m\u001b[0m\n\u001b[0;32m     10\u001b[0m \u001b[1;31m# Generate a classification report\u001b[0m\u001b[1;33m\u001b[0m\u001b[1;33m\u001b[0m\u001b[0m\n",
      "\u001b[1;32m~\\anaconda3\\lib\\site-packages\\sklearn\\ensemble\\_forest.py\u001b[0m in \u001b[0;36mpredict\u001b[1;34m(self, X)\u001b[0m\n\u001b[0;32m    806\u001b[0m             \u001b[0mThe\u001b[0m \u001b[0mpredicted\u001b[0m \u001b[0mclasses\u001b[0m\u001b[1;33m.\u001b[0m\u001b[1;33m\u001b[0m\u001b[1;33m\u001b[0m\u001b[0m\n\u001b[0;32m    807\u001b[0m         \"\"\"\n\u001b[1;32m--> 808\u001b[1;33m         \u001b[0mproba\u001b[0m \u001b[1;33m=\u001b[0m \u001b[0mself\u001b[0m\u001b[1;33m.\u001b[0m\u001b[0mpredict_proba\u001b[0m\u001b[1;33m(\u001b[0m\u001b[0mX\u001b[0m\u001b[1;33m)\u001b[0m\u001b[1;33m\u001b[0m\u001b[1;33m\u001b[0m\u001b[0m\n\u001b[0m\u001b[0;32m    809\u001b[0m \u001b[1;33m\u001b[0m\u001b[0m\n\u001b[0;32m    810\u001b[0m         \u001b[1;32mif\u001b[0m \u001b[0mself\u001b[0m\u001b[1;33m.\u001b[0m\u001b[0mn_outputs_\u001b[0m \u001b[1;33m==\u001b[0m \u001b[1;36m1\u001b[0m\u001b[1;33m:\u001b[0m\u001b[1;33m\u001b[0m\u001b[1;33m\u001b[0m\u001b[0m\n",
      "\u001b[1;32m~\\anaconda3\\lib\\site-packages\\sklearn\\ensemble\\_forest.py\u001b[0m in \u001b[0;36mpredict_proba\u001b[1;34m(self, X)\u001b[0m\n\u001b[0;32m    848\u001b[0m         \u001b[0mcheck_is_fitted\u001b[0m\u001b[1;33m(\u001b[0m\u001b[0mself\u001b[0m\u001b[1;33m)\u001b[0m\u001b[1;33m\u001b[0m\u001b[1;33m\u001b[0m\u001b[0m\n\u001b[0;32m    849\u001b[0m         \u001b[1;31m# Check data\u001b[0m\u001b[1;33m\u001b[0m\u001b[1;33m\u001b[0m\u001b[0m\n\u001b[1;32m--> 850\u001b[1;33m         \u001b[0mX\u001b[0m \u001b[1;33m=\u001b[0m \u001b[0mself\u001b[0m\u001b[1;33m.\u001b[0m\u001b[0m_validate_X_predict\u001b[0m\u001b[1;33m(\u001b[0m\u001b[0mX\u001b[0m\u001b[1;33m)\u001b[0m\u001b[1;33m\u001b[0m\u001b[1;33m\u001b[0m\u001b[0m\n\u001b[0m\u001b[0;32m    851\u001b[0m \u001b[1;33m\u001b[0m\u001b[0m\n\u001b[0;32m    852\u001b[0m         \u001b[1;31m# Assign chunk of trees to jobs\u001b[0m\u001b[1;33m\u001b[0m\u001b[1;33m\u001b[0m\u001b[0m\n",
      "\u001b[1;32m~\\anaconda3\\lib\\site-packages\\sklearn\\ensemble\\_forest.py\u001b[0m in \u001b[0;36m_validate_X_predict\u001b[1;34m(self, X)\u001b[0m\n\u001b[0;32m    577\u001b[0m         Validate X whenever one tries to predict, apply, predict_proba.\"\"\"\n\u001b[0;32m    578\u001b[0m         \u001b[0mcheck_is_fitted\u001b[0m\u001b[1;33m(\u001b[0m\u001b[0mself\u001b[0m\u001b[1;33m)\u001b[0m\u001b[1;33m\u001b[0m\u001b[1;33m\u001b[0m\u001b[0m\n\u001b[1;32m--> 579\u001b[1;33m         \u001b[0mX\u001b[0m \u001b[1;33m=\u001b[0m \u001b[0mself\u001b[0m\u001b[1;33m.\u001b[0m\u001b[0m_validate_data\u001b[0m\u001b[1;33m(\u001b[0m\u001b[0mX\u001b[0m\u001b[1;33m,\u001b[0m \u001b[0mdtype\u001b[0m\u001b[1;33m=\u001b[0m\u001b[0mDTYPE\u001b[0m\u001b[1;33m,\u001b[0m \u001b[0maccept_sparse\u001b[0m\u001b[1;33m=\u001b[0m\u001b[1;34m\"csr\"\u001b[0m\u001b[1;33m,\u001b[0m \u001b[0mreset\u001b[0m\u001b[1;33m=\u001b[0m\u001b[1;32mFalse\u001b[0m\u001b[1;33m)\u001b[0m\u001b[1;33m\u001b[0m\u001b[1;33m\u001b[0m\u001b[0m\n\u001b[0m\u001b[0;32m    580\u001b[0m         \u001b[1;32mif\u001b[0m \u001b[0missparse\u001b[0m\u001b[1;33m(\u001b[0m\u001b[0mX\u001b[0m\u001b[1;33m)\u001b[0m \u001b[1;32mand\u001b[0m \u001b[1;33m(\u001b[0m\u001b[0mX\u001b[0m\u001b[1;33m.\u001b[0m\u001b[0mindices\u001b[0m\u001b[1;33m.\u001b[0m\u001b[0mdtype\u001b[0m \u001b[1;33m!=\u001b[0m \u001b[0mnp\u001b[0m\u001b[1;33m.\u001b[0m\u001b[0mintc\u001b[0m \u001b[1;32mor\u001b[0m \u001b[0mX\u001b[0m\u001b[1;33m.\u001b[0m\u001b[0mindptr\u001b[0m\u001b[1;33m.\u001b[0m\u001b[0mdtype\u001b[0m \u001b[1;33m!=\u001b[0m \u001b[0mnp\u001b[0m\u001b[1;33m.\u001b[0m\u001b[0mintc\u001b[0m\u001b[1;33m)\u001b[0m\u001b[1;33m:\u001b[0m\u001b[1;33m\u001b[0m\u001b[1;33m\u001b[0m\u001b[0m\n\u001b[0;32m    581\u001b[0m             \u001b[1;32mraise\u001b[0m \u001b[0mValueError\u001b[0m\u001b[1;33m(\u001b[0m\u001b[1;34m\"No support for np.int64 index based sparse matrices\"\u001b[0m\u001b[1;33m)\u001b[0m\u001b[1;33m\u001b[0m\u001b[1;33m\u001b[0m\u001b[0m\n",
      "\u001b[1;32m~\\anaconda3\\lib\\site-packages\\sklearn\\base.py\u001b[0m in \u001b[0;36m_validate_data\u001b[1;34m(self, X, y, reset, validate_separately, **check_params)\u001b[0m\n\u001b[0;32m    583\u001b[0m \u001b[1;33m\u001b[0m\u001b[0m\n\u001b[0;32m    584\u001b[0m         \u001b[1;32mif\u001b[0m \u001b[1;32mnot\u001b[0m \u001b[0mno_val_X\u001b[0m \u001b[1;32mand\u001b[0m \u001b[0mcheck_params\u001b[0m\u001b[1;33m.\u001b[0m\u001b[0mget\u001b[0m\u001b[1;33m(\u001b[0m\u001b[1;34m\"ensure_2d\"\u001b[0m\u001b[1;33m,\u001b[0m \u001b[1;32mTrue\u001b[0m\u001b[1;33m)\u001b[0m\u001b[1;33m:\u001b[0m\u001b[1;33m\u001b[0m\u001b[1;33m\u001b[0m\u001b[0m\n\u001b[1;32m--> 585\u001b[1;33m             \u001b[0mself\u001b[0m\u001b[1;33m.\u001b[0m\u001b[0m_check_n_features\u001b[0m\u001b[1;33m(\u001b[0m\u001b[0mX\u001b[0m\u001b[1;33m,\u001b[0m \u001b[0mreset\u001b[0m\u001b[1;33m=\u001b[0m\u001b[0mreset\u001b[0m\u001b[1;33m)\u001b[0m\u001b[1;33m\u001b[0m\u001b[1;33m\u001b[0m\u001b[0m\n\u001b[0m\u001b[0;32m    586\u001b[0m \u001b[1;33m\u001b[0m\u001b[0m\n\u001b[0;32m    587\u001b[0m         \u001b[1;32mreturn\u001b[0m \u001b[0mout\u001b[0m\u001b[1;33m\u001b[0m\u001b[1;33m\u001b[0m\u001b[0m\n",
      "\u001b[1;32m~\\anaconda3\\lib\\site-packages\\sklearn\\base.py\u001b[0m in \u001b[0;36m_check_n_features\u001b[1;34m(self, X, reset)\u001b[0m\n\u001b[0;32m    398\u001b[0m \u001b[1;33m\u001b[0m\u001b[0m\n\u001b[0;32m    399\u001b[0m         \u001b[1;32mif\u001b[0m \u001b[0mn_features\u001b[0m \u001b[1;33m!=\u001b[0m \u001b[0mself\u001b[0m\u001b[1;33m.\u001b[0m\u001b[0mn_features_in_\u001b[0m\u001b[1;33m:\u001b[0m\u001b[1;33m\u001b[0m\u001b[1;33m\u001b[0m\u001b[0m\n\u001b[1;32m--> 400\u001b[1;33m             raise ValueError(\n\u001b[0m\u001b[0;32m    401\u001b[0m                 \u001b[1;34mf\"X has {n_features} features, but {self.__class__.__name__} \"\u001b[0m\u001b[1;33m\u001b[0m\u001b[1;33m\u001b[0m\u001b[0m\n\u001b[0;32m    402\u001b[0m                 \u001b[1;34mf\"is expecting {self.n_features_in_} features as input.\"\u001b[0m\u001b[1;33m\u001b[0m\u001b[1;33m\u001b[0m\u001b[0m\n",
      "\u001b[1;31mValueError\u001b[0m: X has 2 features, but RandomForestClassifier is expecting 30 features as input."
     ]
    }
   ],
   "source": [
    "# Initialize the random forest classifier\n",
    "rf_model = RandomForestClassifier(random_state=42)\n",
    "\n",
    "# Train the model\n",
    "rf_model.fit(X_train_resampled, y_train_resampled)\n",
    "\n",
    "# Make predictions on the test set\n",
    "y_pred = rf_model.predict(X_test)\n",
    "\n",
    "# Generate a classification report\n",
    "report = classification_report(y_test, y_pred)\n",
    "\n",
    "print(\"Classification Report:\")\n",
    "print(report)"
   ]
  },
  {
   "cell_type": "markdown",
   "metadata": {
    "collapsed": true,
    "id": "YrPnjbeQRMNF"
   },
   "source": [
    "<table align=\"left\">\n",
    "    <tr>\n",
    "        <td width=\"6%\">\n",
    "            <img src=\"question_icon.png\">\n",
    "        </td>\n",
    "        <td>\n",
    "            <div align=\"left\", style=\"font-size:120%\">\n",
    "                <font color=\"#21618C\">\n",
    "                    <b>16. For a random forest model, find the best value of hyperparameters \"n_estimators\", \"criterion\", \"max_depth\", and \"min_samples_split\".</b>\n",
    "                </font>\n",
    "            </div>\n",
    "        </td>\n",
    "    </tr>\n",
    "</table>"
   ]
  },
  {
   "cell_type": "code",
   "execution_count": 26,
   "metadata": {
    "id": "UGKe6AkzRMNG"
   },
   "outputs": [
    {
     "name": "stdout",
     "output_type": "stream",
     "text": [
      "Best Hyperparameters: {'n_estimators': 300, 'min_samples_split': 5, 'max_depth': 10, 'criterion': 'entropy'}\n"
     ]
    }
   ],
   "source": [
    "from sklearn.model_selection import RandomizedSearchCV\n",
    "from sklearn.ensemble import RandomForestClassifier\n",
    "\n",
    "# Define the parameter grid\n",
    "param_dist = {\n",
    "    'n_estimators': [100, 200, 300],  # Number of trees in the forest\n",
    "    'criterion': ['gini', 'entropy'],  # Function to measure the quality of a split\n",
    "    'max_depth': [None, 10, 20, 30],  # Maximum depth of the tree\n",
    "    'min_samples_split': [2, 5, 10]  # Minimum number of samples required to split an internal node\n",
    "}\n",
    "\n",
    "# Create a Random Forest classifier\n",
    "rf_model = RandomForestClassifier(random_state=42)\n",
    "\n",
    "# Instantiate the RandomizedSearchCV with 10-fold cross-validation\n",
    "random_search = RandomizedSearchCV(estimator=rf_model, param_distributions=param_dist, n_iter=10, cv=10, scoring='accuracy', random_state=42)\n",
    "\n",
    "# Perform the random search\n",
    "random_search.fit(X, y)\n",
    "\n",
    "# Get the best hyperparameters\n",
    "best_params = random_search.best_params_\n",
    "print(\"Best Hyperparameters:\", best_params)"
   ]
  },
  {
   "cell_type": "markdown",
   "metadata": {
    "collapsed": true,
    "id": "SNni8WkyRMNG"
   },
   "source": [
    "<table align=\"left\">\n",
    "    <tr>\n",
    "        <td width=\"6%\">\n",
    "            <img src=\"question_icon.png\">\n",
    "        </td>\n",
    "        <td>\n",
    "            <div align=\"left\", style=\"font-size:120%\">\n",
    "                <font color=\"#21618C\">\n",
    "                    <b>17. Build a random forest model using the tuned hyperparameters, perform 10 fold cross validation and get the average ROC-AUC score.</b>\n",
    "                </font>\n",
    "            </div>\n",
    "        </td>\n",
    "    </tr>\n",
    "</table>"
   ]
  },
  {
   "cell_type": "code",
   "execution_count": 27,
   "metadata": {
    "id": "RxaHXTKyRMNG"
   },
   "outputs": [
    {
     "name": "stdout",
     "output_type": "stream",
     "text": [
      "Average ROC-AUC score: 0.6233126945575206\n"
     ]
    }
   ],
   "source": [
    "from sklearn.model_selection import cross_val_score\n",
    "from sklearn.ensemble import RandomForestClassifier\n",
    "from sklearn.metrics import roc_auc_score\n",
    "\n",
    "# Define the Random Forest classifier with the tuned hyperparameters\n",
    "rf_model_tuned = RandomForestClassifier(n_estimators=best_params['n_estimators'],\n",
    "                                         criterion=best_params['criterion'],\n",
    "                                         max_depth=best_params['max_depth'],\n",
    "                                         min_samples_split=best_params['min_samples_split'],\n",
    "                                         random_state=42)\n",
    "\n",
    "# Perform 10-fold cross-validation and calculate ROC-AUC scores\n",
    "roc_auc_scores = cross_val_score(rf_model_tuned, X, y, cv=10, scoring='roc_auc')\n",
    "\n",
    "# Calculate the average ROC-AUC score\n",
    "avg_roc_auc_score = roc_auc_scores.mean()\n",
    "\n",
    "print(\"Average ROC-AUC score:\", avg_roc_auc_score)"
   ]
  },
  {
   "cell_type": "markdown",
   "metadata": {
    "collapsed": true,
    "id": "B_HbN-mNRMNG"
   },
   "source": [
    "<table align=\"left\">\n",
    "    <tr>\n",
    "        <td width=\"6%\">\n",
    "            <img src=\"question_icon.png\">\n",
    "        </td>\n",
    "        <td>\n",
    "            <div align=\"left\", style=\"font-size:120%\">\n",
    "                <font color=\"#21618C\">\n",
    "                    <b>18. Using the tuned random forest model, find the features that impact the model prediction the most.</b>\n",
    "                </font>\n",
    "            </div>\n",
    "        </td>\n",
    "    </tr>\n",
    "</table>"
   ]
  },
  {
   "cell_type": "code",
   "execution_count": 28,
   "metadata": {
    "id": "fKuhbf1FRMNG"
   },
   "outputs": [
    {
     "name": "stdout",
     "output_type": "stream",
     "text": [
      "Top features impacting the model prediction the most:\n",
      "                   Feature  Importance\n",
      "1            MonthlyIncome    0.941128\n",
      "0  EnvironmentSatisfaction    0.058872\n"
     ]
    }
   ],
   "source": [
    "# Train the tuned Random Forest model\n",
    "rf_model_tuned.fit(X, y)\n",
    "\n",
    "# Get feature importances\n",
    "feature_importances = rf_model_tuned.feature_importances_\n",
    "\n",
    "# Create a DataFrame to store feature names and their importances\n",
    "feature_importance_df = pd.DataFrame({'Feature': X.columns, 'Importance': feature_importances})\n",
    "\n",
    "# Sort the DataFrame by importance values in descending order\n",
    "feature_importance_df = feature_importance_df.sort_values(by='Importance', ascending=False)\n",
    "\n",
    "# Display the top features impacting the model prediction the most\n",
    "print(\"Top features impacting the model prediction the most:\")\n",
    "print(feature_importance_df)"
   ]
  },
  {
   "cell_type": "markdown",
   "metadata": {
    "collapsed": true,
    "id": "RCzYhe9gRMNG"
   },
   "source": [
    "<table align=\"left\">\n",
    "    <tr>\n",
    "        <td width=\"6%\">\n",
    "            <img src=\"question_icon.png\">\n",
    "        </td>\n",
    "        <td>\n",
    "            <div align=\"left\", style=\"font-size:120%\">\n",
    "                <font color=\"#21618C\">\n",
    "                    <b>19. Build a random forest model using the top 10 most important features.</b>\n",
    "                </font>\n",
    "            </div>\n",
    "        </td>\n",
    "    </tr>\n",
    "</table>"
   ]
  },
  {
   "cell_type": "code",
   "execution_count": 29,
   "metadata": {
    "id": "w_ZAeE03RMNH"
   },
   "outputs": [
    {
     "data": {
      "text/plain": [
       "RandomForestClassifier(random_state=42)"
      ]
     },
     "execution_count": 29,
     "metadata": {},
     "output_type": "execute_result"
    }
   ],
   "source": [
    "top_features = feature_importance_df.head(10)['Feature'].tolist()\n",
    "\n",
    "# Select only the top 10 features from the dataset\n",
    "X_top_features = X[top_features]\n",
    "\n",
    "# Initialize a new Random Forest classifier\n",
    "rf_model_top_features = RandomForestClassifier(random_state=42)\n",
    "\n",
    "# Train the model using only the top 10 features\n",
    "rf_model_top_features.fit(X_top_features, y)"
   ]
  },
  {
   "cell_type": "code",
   "execution_count": 33,
   "metadata": {},
   "outputs": [
    {
     "data": {
      "text/plain": [
       "RandomForestClassifier(random_state=42)"
      ]
     },
     "execution_count": 33,
     "metadata": {},
     "output_type": "execute_result"
    }
   ],
   "source": [
    "from sklearn.model_selection import train_test_split\n",
    "from sklearn.ensemble import RandomForestClassifier\n",
    "\n",
    "# Extract the names of the top 10 most important features\n",
    "top_features = feature_importance_df.head(10)['Feature'].tolist()\n",
    "\n",
    "# Select only the top 10 features from the dataset\n",
    "X_top_features = X[top_features]\n",
    "\n",
    "# Split the dataset into training and testing sets\n",
    "X_train_top, X_test_top, y_train, y_test = train_test_split(X_top_features, y, test_size=0.2, random_state=42)\n",
    "\n",
    "# Initialize a new Random Forest classifier\n",
    "rf_model_top_features = RandomForestClassifier(random_state=42)\n",
    "\n",
    "# Train the model using only the top 10 features\n",
    "rf_model_top_features.fit(X_train_top, y_train)"
   ]
  },
  {
   "cell_type": "code",
   "execution_count": 34,
   "metadata": {},
   "outputs": [
    {
     "name": "stdout",
     "output_type": "stream",
     "text": [
      "RandomForestClassifier(random_state=42)\n"
     ]
    }
   ],
   "source": [
    "print(rf_model_top_features)"
   ]
  },
  {
   "cell_type": "markdown",
   "metadata": {
    "collapsed": true,
    "id": "irFuZVlLRMNH"
   },
   "source": [
    "<table align=\"left\">\n",
    "    <tr>\n",
    "        <td width=\"6%\">\n",
    "            <img src=\"question_icon.png\">\n",
    "        </td>\n",
    "        <td>\n",
    "            <div align=\"left\", style=\"font-size:120%\">\n",
    "                <font color=\"#21618C\">\n",
    "                    <b>20. Plot a confusion matrix and area under the receiver operating characteristic curve for the model built in question 19. </b>\n",
    "                </font>\n",
    "            </div>\n",
    "        </td>\n",
    "    </tr>\n",
    "</table>"
   ]
  },
  {
   "cell_type": "code",
   "execution_count": 32,
   "metadata": {},
   "outputs": [
    {
     "data": {
      "image/png": "[encoded data removed]",
      "text/plain": [
       "<Figure size 800x600 with 1 Axes>"
      ]
     },
     "metadata": {},
     "output_type": "display_data"
    },
    {
     "data": {
      "image/png": "[encoded data removed]",
      "text/plain": [
       "<Figure size 800x600 with 1 Axes>"
      ]
     },
     "metadata": {},
     "output_type": "display_data"
    }
   ],
   "source": [
    "from sklearn.metrics import confusion_matrix, roc_auc_score, roc_curve\n",
    "import matplotlib.pyplot as plt\n",
    "import seaborn as sns\n",
    "\n",
    "# Step 1: Make predictions using the model\n",
    "y_pred_top_features = rf_model_top_features.predict(X_top_features)\n",
    "\n",
    "# Step 2: Calculate the confusion matrix\n",
    "conf_matrix = confusion_matrix(y, y_pred_top_features)\n",
    "\n",
    "# Step 3: Plot the confusion matrix\n",
    "plt.figure(figsize=(8, 6))\n",
    "sns.heatmap(conf_matrix, annot=True, fmt=\"d\", cmap=\"Blues\", cbar=False)\n",
    "plt.xlabel('Predicted Labels')\n",
    "plt.ylabel('True Labels')\n",
    "plt.title('Confusion Matrix')\n",
    "plt.show()\n",
    "\n",
    "# Step 4: Calculate the probabilities for each class\n",
    "y_prob_top_features = rf_model_top_features.predict_proba(X_top_features)[:, 1]\n",
    "\n",
    "# Step 5: Calculate the ROC-AUC score\n",
    "roc_auc = roc_auc_score(y, y_prob_top_features)\n",
    "\n",
    "# Step 6: Plot the ROC curve\n",
    "fpr, tpr, _ = roc_curve(y, y_prob_top_features)\n",
    "plt.figure(figsize=(8, 6))\n",
    "plt.plot(fpr, tpr, color='blue', lw=2, label='ROC curve (AUC = %0.2f)' % roc_auc)\n",
    "plt.plot([0, 1], [0, 1], color='gray', linestyle='--')\n",
    "plt.xlim([0.0, 1.0])\n",
    "plt.ylim([0.0, 1.05])\n",
    "plt.xlabel('False Positive Rate')\n",
    "plt.ylabel('True Positive Rate')\n",
    "plt.title('Receiver Operating Characteristic (ROC) Curve')\n",
    "plt.legend(loc='lower right')\n",
    "plt.show()"
   ]
  },
  {
   "cell_type": "code",
   "execution_count": null,
   "metadata": {
    "id": "xqLZbR7ZRMNH"
   },
   "outputs": [],
   "source": [
    "# type your code here"
   ]
  }
 ],
 "metadata": {
  "colab": {
   "name": "ML 2- In-Class - Lab Exercise (Decision Tree and Random forest) - Question.ipynb",
   "provenance": []
  },
  "kernelspec": {
   "display_name": "Python 3 (ipykernel)",
   "language": "python",
   "name": "python3"
  },
  "language_info": {
   "codemirror_mode": {
    "name": "ipython",
    "version": 3
   },
   "file_extension": ".py",
   "mimetype": "text/x-python",
   "name": "python",
   "nbconvert_exporter": "python",
   "pygments_lexer": "ipython3",
   "version": "3.9.13"
  }
 },
 "nbformat": 4,
 "nbformat_minor": 1
}
